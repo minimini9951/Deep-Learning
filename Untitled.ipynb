{
 "cells": [
  {
   "cell_type": "code",
   "execution_count": 1,
   "id": "7fb775fb",
   "metadata": {
    "execution": {
     "iopub.execute_input": "2022-12-15T05:42:57.968175Z",
     "iopub.status.busy": "2022-12-15T05:42:57.968175Z",
     "iopub.status.idle": "2022-12-15T05:42:58.000708Z",
     "shell.execute_reply": "2022-12-15T05:42:57.999700Z",
     "shell.execute_reply.started": "2022-12-15T05:42:57.968175Z"
    }
   },
   "outputs": [],
   "source": [
    "%config Completer.use_jedi = False  # 자동완성 속도 증가"
   ]
  },
  {
   "cell_type": "code",
   "execution_count": 2,
   "id": "c12b03d0",
   "metadata": {
    "execution": {
     "iopub.execute_input": "2022-12-15T05:46:01.032787Z",
     "iopub.status.busy": "2022-12-15T05:46:01.032787Z",
     "iopub.status.idle": "2022-12-15T05:46:01.136572Z",
     "shell.execute_reply": "2022-12-15T05:46:01.136572Z",
     "shell.execute_reply.started": "2022-12-15T05:46:01.032787Z"
    }
   },
   "outputs": [],
   "source": [
    "from pprint import pprint as pp\n",
    "\n",
    "import requests\n",
    "from bs4 import BeautifulSoup"
   ]
  },
  {
   "cell_type": "code",
   "execution_count": 3,
   "id": "ff194a72",
   "metadata": {
    "execution": {
     "iopub.execute_input": "2022-12-15T05:47:20.417466Z",
     "iopub.status.busy": "2022-12-15T05:47:20.409457Z",
     "iopub.status.idle": "2022-12-15T05:47:21.016392Z",
     "shell.execute_reply": "2022-12-15T05:47:21.016392Z",
     "shell.execute_reply.started": "2022-12-15T05:47:20.417466Z"
    }
   },
   "outputs": [],
   "source": [
    "resp = requests.get('http://quotes.toscrape.com')  # reponse 객체 리턴\n",
    "resp.headers['Server']\n",
    "pp(resp.text)\n",
    "\n",
    "soup = BeautifulSoup(resp.text, 'html.parser')  # 적절한 parser 설정"
   ]
  },
  {
   "cell_type": "code",
   "execution_count": null,
   "id": "b3d11b36",
   "metadata": {},
   "outputs": [],
   "source": []
  }
 ],
 "metadata": {
  "kernelspec": {
   "display_name": "Python 3 (ipykernel)",
   "language": "python",
   "name": "python3"
  },
  "language_info": {
   "codemirror_mode": {
    "name": "ipython",
    "version": 3
   },
   "file_extension": ".py",
   "mimetype": "text/x-python",
   "name": "python",
   "nbconvert_exporter": "python",
   "pygments_lexer": "ipython3",
   "version": "3.7.12"
  }
 },
 "nbformat": 4,
 "nbformat_minor": 5
}
