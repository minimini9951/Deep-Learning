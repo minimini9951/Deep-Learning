{
 "cells": [
  {
   "cell_type": "code",
   "execution_count": 1,
   "id": "fd653676-4180-421d-8b01-8d6002598d71",
   "metadata": {
    "execution": {
     "iopub.execute_input": "2022-12-08T02:31:09.925020Z",
     "iopub.status.busy": "2022-12-08T02:31:09.924020Z",
     "iopub.status.idle": "2022-12-08T02:31:09.948633Z",
     "shell.execute_reply": "2022-12-08T02:31:09.947622Z",
     "shell.execute_reply.started": "2022-12-08T02:31:09.925020Z"
    },
    "tags": []
   },
   "outputs": [],
   "source": [
    "import warnings\n",
    "warnings.simplefilter(action='ignore', category=FutureWarning)\n",
    "%config Completer.use_jedi = False  # 자동완성 속도 증가"
   ]
  },
  {
   "cell_type": "code",
   "execution_count": 2,
   "id": "f0072f69-58d0-462a-a9a6-0b0290b42736",
   "metadata": {
    "execution": {
     "iopub.execute_input": "2022-12-08T02:31:09.955140Z",
     "iopub.status.busy": "2022-12-08T02:31:09.955140Z",
     "iopub.status.idle": "2022-12-08T02:31:12.234868Z",
     "shell.execute_reply": "2022-12-08T02:31:12.234272Z",
     "shell.execute_reply.started": "2022-12-08T02:31:09.955140Z"
    },
    "tags": []
   },
   "outputs": [],
   "source": [
    "import numpy as np\n",
    "import tensorflow as tf\n",
    "tf.compat.v1.enable_eager_execution()\n",
    "from tensorflow import keras"
   ]
  },
  {
   "cell_type": "code",
   "execution_count": 3,
   "id": "c70cf6a0-d022-4892-8647-94bacafb5b19",
   "metadata": {
    "execution": {
     "iopub.execute_input": "2022-12-08T02:31:12.236875Z",
     "iopub.status.busy": "2022-12-08T02:31:12.235884Z",
     "iopub.status.idle": "2022-12-08T02:31:12.625192Z",
     "shell.execute_reply": "2022-12-08T02:31:12.624190Z",
     "shell.execute_reply.started": "2022-12-08T02:31:12.236875Z"
    },
    "tags": []
   },
   "outputs": [],
   "source": [
    "# 로이더 데이터셋 로드\n",
    "from tensorflow.keras.datasets import reuters\n",
    "\n",
    "(train_data, train_labels), (test_data, test_labels) = reuters.load_data(num_words=10000)"
   ]
  },
  {
   "cell_type": "code",
   "execution_count": 4,
   "id": "7c4046df-1b65-4bf9-976b-62d2f45e9b86",
   "metadata": {
    "execution": {
     "iopub.execute_input": "2022-12-08T02:31:13.616202Z",
     "iopub.status.busy": "2022-12-08T02:31:13.616202Z",
     "iopub.status.idle": "2022-12-08T02:31:13.655329Z",
     "shell.execute_reply": "2022-12-08T02:31:13.654336Z",
     "shell.execute_reply.started": "2022-12-08T02:31:13.616202Z"
    },
    "tags": []
   },
   "outputs": [],
   "source": [
    "# 데이터셋을 텍스트로 디코딩\n",
    "word_index = reuters.get_word_index()\n",
    "reverse_word_index = dict(\n",
    "    [(value, key) for (key, value) in word_index.items()])\n",
    "decoded_newswire = ' '.join(\n",
    "    [reverse_word_index.get(i - 3, '?') for i in train_data[0]])"
   ]
  },
  {
   "cell_type": "code",
   "execution_count": 5,
   "id": "30ed32f0-91d9-42da-997c-ce00381b4df3",
   "metadata": {
    "execution": {
     "iopub.execute_input": "2022-12-08T02:31:13.953417Z",
     "iopub.status.busy": "2022-12-08T02:31:13.952418Z",
     "iopub.status.idle": "2022-12-08T02:31:13.965932Z",
     "shell.execute_reply": "2022-12-08T02:31:13.964933Z",
     "shell.execute_reply.started": "2022-12-08T02:31:13.953417Z"
    },
    "tags": []
   },
   "outputs": [],
   "source": [
    "# 멀티 핫 인코딩\n",
    "def vectorize_sequences(sequences, dimension=10000):\n",
    "    results = np.zeros((len(sequences), dimension))\n",
    "    for i, sequences in enumerate(sequences):\n",
    "        for j in sequences:\n",
    "            results[i, j] = 1.\n",
    "    return results"
   ]
  },
  {
   "cell_type": "code",
   "execution_count": 6,
   "id": "539cbf56-b48d-458f-a3ec-50ca4d969abb",
   "metadata": {
    "execution": {
     "iopub.execute_input": "2022-12-08T02:31:14.233811Z",
     "iopub.status.busy": "2022-12-08T02:31:14.233811Z",
     "iopub.status.idle": "2022-12-08T02:31:14.488274Z",
     "shell.execute_reply": "2022-12-08T02:31:14.487071Z",
     "shell.execute_reply.started": "2022-12-08T02:31:14.233811Z"
    },
    "tags": []
   },
   "outputs": [],
   "source": [
    "# 데이터 인코딩\n",
    "x_train = vectorize_sequences(train_data)\n",
    "x_test = vectorize_sequences(test_data)"
   ]
  },
  {
   "cell_type": "code",
   "execution_count": 7,
   "id": "a5980018-c7a6-4243-a983-209750a51f49",
   "metadata": {
    "execution": {
     "iopub.execute_input": "2022-12-08T02:31:14.602011Z",
     "iopub.status.busy": "2022-12-08T02:31:14.602011Z",
     "iopub.status.idle": "2022-12-08T02:31:14.612348Z",
     "shell.execute_reply": "2022-12-08T02:31:14.611196Z",
     "shell.execute_reply.started": "2022-12-08T02:31:14.602011Z"
    },
    "tags": []
   },
   "outputs": [],
   "source": [
    "# 레이블 인코딩\n",
    "def to_one_hot(labels, dimension=46):\n",
    "    results = np.zeros((len(labels), dimension))\n",
    "    for i, label in enumerate(labels):\n",
    "        results[i, label] = 1.\n",
    "    return results"
   ]
  },
  {
   "cell_type": "code",
   "execution_count": 8,
   "id": "88ab306c-f062-42ce-a3d1-5a10b92564ce",
   "metadata": {
    "execution": {
     "iopub.execute_input": "2022-12-08T02:31:14.980456Z",
     "iopub.status.busy": "2022-12-08T02:31:14.980456Z",
     "iopub.status.idle": "2022-12-08T02:31:14.999008Z",
     "shell.execute_reply": "2022-12-08T02:31:14.998026Z",
     "shell.execute_reply.started": "2022-12-08T02:31:14.980456Z"
    },
    "tags": []
   },
   "outputs": [],
   "source": [
    "y_train = to_one_hot(train_labels)\n",
    "y_test = to_one_hot(test_labels)"
   ]
  },
  {
   "cell_type": "code",
   "execution_count": 9,
   "id": "04902c5c-0e7f-4446-8234-db3dc3f4c47f",
   "metadata": {
    "execution": {
     "iopub.execute_input": "2022-12-08T02:31:15.345923Z",
     "iopub.status.busy": "2022-12-08T02:31:15.345923Z",
     "iopub.status.idle": "2022-12-08T02:31:15.388399Z",
     "shell.execute_reply": "2022-12-08T02:31:15.387396Z",
     "shell.execute_reply.started": "2022-12-08T02:31:15.345923Z"
    },
    "tags": []
   },
   "outputs": [
    {
     "name": "stderr",
     "output_type": "stream",
     "text": [
      "Using TensorFlow backend.\n"
     ]
    }
   ],
   "source": [
    "# 레이블 인코딩 with keras\n",
    "from keras.utils.np_utils import to_categorical\n",
    "\n",
    "y_train = to_categorical(train_labels)\n",
    "y_test = to_categorical(test_labels)"
   ]
  },
  {
   "cell_type": "code",
   "execution_count": 10,
   "id": "02f348fa-420c-49a1-9677-4cb8aed7a7d9",
   "metadata": {
    "execution": {
     "iopub.execute_input": "2022-12-08T02:31:16.206717Z",
     "iopub.status.busy": "2022-12-08T02:31:16.206717Z",
     "iopub.status.idle": "2022-12-08T02:31:16.235652Z",
     "shell.execute_reply": "2022-12-08T02:31:16.234660Z",
     "shell.execute_reply.started": "2022-12-08T02:31:16.206717Z"
    },
    "tags": []
   },
   "outputs": [],
   "source": [
    "# 모델 정의\n",
    "from keras import layers\n",
    "model = keras.Sequential([\n",
    "    layers.Dense(64, activation='relu'),\n",
    "    layers.Dense(64, activation='relu'),\n",
    "    layers.Dense(46, activation='softmax')\n",
    "])"
   ]
  },
  {
   "cell_type": "code",
   "execution_count": 11,
   "id": "9052f4b0-88e6-4620-9528-0695502e9599",
   "metadata": {
    "execution": {
     "iopub.execute_input": "2022-12-08T02:31:16.657826Z",
     "iopub.status.busy": "2022-12-08T02:31:16.656840Z",
     "iopub.status.idle": "2022-12-08T02:31:16.679588Z",
     "shell.execute_reply": "2022-12-08T02:31:16.678586Z",
     "shell.execute_reply.started": "2022-12-08T02:31:16.657826Z"
    },
    "tags": []
   },
   "outputs": [],
   "source": [
    "# 모델 컴파일\n",
    "model.compile(optimizer='rmsprop', loss='categorical_crossentropy', metrics=['accuracy'])"
   ]
  },
  {
   "cell_type": "code",
   "execution_count": 12,
   "id": "68a45615-d642-449e-b0d3-ffadfdd78c4f",
   "metadata": {
    "execution": {
     "iopub.execute_input": "2022-12-08T02:31:17.106193Z",
     "iopub.status.busy": "2022-12-08T02:31:17.106193Z",
     "iopub.status.idle": "2022-12-08T02:31:17.116659Z",
     "shell.execute_reply": "2022-12-08T02:31:17.116659Z",
     "shell.execute_reply.started": "2022-12-08T02:31:17.106193Z"
    },
    "tags": []
   },
   "outputs": [],
   "source": [
    "# 검증 세트 준비\n",
    "x_val = x_train[:1000]\n",
    "partial_x_train = x_train[1000:]\n",
    "y_val = y_train[:1000]\n",
    "partial_y_train = y_train[1000:]"
   ]
  },
  {
   "cell_type": "code",
   "execution_count": 13,
   "id": "206851d7-b91c-4383-8cca-2b109436b70d",
   "metadata": {
    "execution": {
     "iopub.execute_input": "2022-12-08T02:31:17.839657Z",
     "iopub.status.busy": "2022-12-08T02:31:17.839657Z",
     "iopub.status.idle": "2022-12-08T02:31:23.554601Z",
     "shell.execute_reply": "2022-12-08T02:31:23.553606Z",
     "shell.execute_reply.started": "2022-12-08T02:31:17.839657Z"
    },
    "tags": []
   },
   "outputs": [
    {
     "name": "stdout",
     "output_type": "stream",
     "text": [
      "Epoch 1/20\n",
      "16/16 [==============================] - 0s 22ms/step - loss: 2.6767 - accuracy: 0.5457 - val_loss: 1.7741 - val_accuracy: 0.6490\n",
      "Epoch 2/20\n",
      "16/16 [==============================] - 0s 14ms/step - loss: 1.4260 - accuracy: 0.7072 - val_loss: 1.2942 - val_accuracy: 0.7230\n",
      "Epoch 3/20\n",
      "16/16 [==============================] - 0s 14ms/step - loss: 1.0328 - accuracy: 0.7806 - val_loss: 1.1101 - val_accuracy: 0.7580\n",
      "Epoch 4/20\n",
      "16/16 [==============================] - 0s 14ms/step - loss: 0.8044 - accuracy: 0.8286 - val_loss: 1.0152 - val_accuracy: 0.7840\n",
      "Epoch 5/20\n",
      "16/16 [==============================] - 0s 15ms/step - loss: 0.6355 - accuracy: 0.8678 - val_loss: 0.9995 - val_accuracy: 0.7920\n",
      "Epoch 6/20\n",
      "16/16 [==============================] - 0s 14ms/step - loss: 0.5054 - accuracy: 0.8986 - val_loss: 0.9266 - val_accuracy: 0.8100\n",
      "Epoch 7/20\n",
      "16/16 [==============================] - 0s 14ms/step - loss: 0.4131 - accuracy: 0.9153 - val_loss: 0.8996 - val_accuracy: 0.8150\n",
      "Epoch 8/20\n",
      "16/16 [==============================] - 0s 14ms/step - loss: 0.3329 - accuracy: 0.9305 - val_loss: 0.9024 - val_accuracy: 0.8180\n",
      "Epoch 9/20\n",
      "16/16 [==============================] - 0s 14ms/step - loss: 0.2807 - accuracy: 0.9399 - val_loss: 0.8929 - val_accuracy: 0.8160\n",
      "Epoch 10/20\n",
      "16/16 [==============================] - 0s 15ms/step - loss: 0.2369 - accuracy: 0.9465 - val_loss: 0.8966 - val_accuracy: 0.8150\n",
      "Epoch 11/20\n",
      "16/16 [==============================] - 0s 14ms/step - loss: 0.2042 - accuracy: 0.9498 - val_loss: 0.9201 - val_accuracy: 0.8130\n",
      "Epoch 12/20\n",
      "16/16 [==============================] - 0s 16ms/step - loss: 0.1851 - accuracy: 0.9533 - val_loss: 0.9334 - val_accuracy: 0.8200\n",
      "Epoch 13/20\n",
      "16/16 [==============================] - 0s 14ms/step - loss: 0.1662 - accuracy: 0.9523 - val_loss: 0.9712 - val_accuracy: 0.8170\n",
      "Epoch 14/20\n",
      "16/16 [==============================] - 0s 15ms/step - loss: 0.1485 - accuracy: 0.9557 - val_loss: 0.9731 - val_accuracy: 0.8160\n",
      "Epoch 15/20\n",
      "16/16 [==============================] - 0s 14ms/step - loss: 0.1404 - accuracy: 0.9570 - val_loss: 0.9869 - val_accuracy: 0.8110\n",
      "Epoch 16/20\n",
      "16/16 [==============================] - 0s 13ms/step - loss: 0.1316 - accuracy: 0.9562 - val_loss: 0.9729 - val_accuracy: 0.8190\n",
      "Epoch 17/20\n",
      "16/16 [==============================] - 0s 13ms/step - loss: 0.1281 - accuracy: 0.9582 - val_loss: 1.0456 - val_accuracy: 0.7950\n",
      "Epoch 18/20\n",
      "16/16 [==============================] - 0s 14ms/step - loss: 0.1206 - accuracy: 0.9567 - val_loss: 1.0279 - val_accuracy: 0.8130\n",
      "Epoch 19/20\n",
      "16/16 [==============================] - 0s 14ms/step - loss: 0.1131 - accuracy: 0.9587 - val_loss: 1.0349 - val_accuracy: 0.8070\n",
      "Epoch 20/20\n",
      "16/16 [==============================] - 0s 13ms/step - loss: 0.1136 - accuracy: 0.9578 - val_loss: 1.0804 - val_accuracy: 0.7940\n"
     ]
    }
   ],
   "source": [
    "# 모델 훈련\n",
    "history = model.fit(partial_x_train,\n",
    "                   partial_y_train,\n",
    "                   epochs=20,\n",
    "                   batch_size=512,\n",
    "                   validation_data=(x_val, y_val))"
   ]
  },
  {
   "cell_type": "code",
   "execution_count": 14,
   "id": "6ecfb552-1932-41c0-a1b4-17e15bf99585",
   "metadata": {
    "execution": {
     "iopub.execute_input": "2022-12-08T02:31:24.677449Z",
     "iopub.status.busy": "2022-12-08T02:31:24.677449Z",
     "iopub.status.idle": "2022-12-08T02:31:25.501664Z",
     "shell.execute_reply": "2022-12-08T02:31:25.500665Z",
     "shell.execute_reply.started": "2022-12-08T02:31:24.677449Z"
    },
    "tags": []
   },
   "outputs": [
    {
     "data": {
      "image/png": "[encoded data removed]",
      "text/plain": [
       "<Figure size 640x480 with 1 Axes>"
      ]
     },
     "metadata": {},
     "output_type": "display_data"
    }
   ],
   "source": [
    "# 훈련과 검증 손실 그리기\n",
    "import matplotlib.pyplot as plt\n",
    "\n",
    "loss = history.history['loss']\n",
    "val_loss = history.history['val_loss']\n",
    "epochs = range(1, len(loss) + 1)\n",
    "plt.plot(epochs, loss, 'bo', label='Training loss')\n",
    "plt.plot(epochs, val_loss, 'b', label='Validation loss')\n",
    "plt.title('Training and validation loss')\n",
    "plt.xlabel('Epochs')\n",
    "plt.ylabel('Loss')\n",
    "plt.legend()\n",
    "plt.show()"
   ]
  },
  {
   "cell_type": "code",
   "execution_count": 15,
   "id": "9305f0fa-9e91-4ce2-84ab-58d415349d33",
   "metadata": {
    "execution": {
     "iopub.execute_input": "2022-12-08T02:33:24.490400Z",
     "iopub.status.busy": "2022-12-08T02:33:24.490400Z",
     "iopub.status.idle": "2022-12-08T02:33:24.596255Z",
     "shell.execute_reply": "2022-12-08T02:33:24.595255Z",
     "shell.execute_reply.started": "2022-12-08T02:33:24.490400Z"
    }
   },
   "outputs": [
    {
     "data": {
      "image/png": "[encoded data removed]",
      "text/plain": [
       "<Figure size 640x480 with 1 Axes>"
      ]
     },
     "metadata": {},
     "output_type": "display_data"
    }
   ],
   "source": [
    "# 훈련과 검증 정확도 그리기\n",
    "plt.clf()\n",
    "acc = history.history['accuracy']\n",
    "val_acc = history.history['val_accuracy']\n",
    "plt.plot(epochs, acc, 'bo', label='Training accuracy')\n",
    "plt.plot(epochs, val_acc, 'b', label='Validation accuracy')\n",
    "plt.title('Training and validation accuracy')\n",
    "plt.xlabel('Epochs')\n",
    "plt.ylabel('Accuracy')\n",
    "plt.legend()\n",
    "plt.show()"
   ]
  },
  {
   "cell_type": "code",
   "execution_count": 16,
   "id": "d42b9f64-9f84-4eb7-9b0d-e2c6e30d4e11",
   "metadata": {
    "execution": {
     "iopub.execute_input": "2022-12-08T02:36:08.957999Z",
     "iopub.status.busy": "2022-12-08T02:36:08.957999Z",
     "iopub.status.idle": "2022-12-08T02:36:12.131301Z",
     "shell.execute_reply": "2022-12-08T02:36:12.131301Z",
     "shell.execute_reply.started": "2022-12-08T02:36:08.957999Z"
    }
   },
   "outputs": [
    {
     "name": "stdout",
     "output_type": "stream",
     "text": [
      "Epoch 1/9\n",
      "18/18 [==============================] - 0s 13ms/step - loss: 2.6659 - accuracy: 0.5153\n",
      "Epoch 2/9\n",
      "18/18 [==============================] - 0s 13ms/step - loss: 1.4056 - accuracy: 0.7088\n",
      "Epoch 3/9\n",
      "18/18 [==============================] - 0s 13ms/step - loss: 1.0289 - accuracy: 0.7789\n",
      "Epoch 4/9\n",
      "18/18 [==============================] - 0s 13ms/step - loss: 0.8047 - accuracy: 0.8272\n",
      "Epoch 5/9\n",
      "18/18 [==============================] - 0s 14ms/step - loss: 0.6362 - accuracy: 0.8701\n",
      "Epoch 6/9\n",
      "18/18 [==============================] - 0s 13ms/step - loss: 0.5050 - accuracy: 0.8977\n",
      "Epoch 7/9\n",
      "18/18 [==============================] - 0s 14ms/step - loss: 0.4056 - accuracy: 0.9163\n",
      "Epoch 8/9\n",
      "18/18 [==============================] - 0s 13ms/step - loss: 0.3308 - accuracy: 0.9293\n",
      "Epoch 9/9\n",
      "18/18 [==============================] - 0s 12ms/step - loss: 0.2772 - accuracy: 0.9390\n",
      "71/71 [==============================] - 0s 1ms/step - loss: 0.9418 - accuracy: 0.7956\n",
      "[0.9417555928230286, 0.7956367135047913]\n"
     ]
    }
   ],
   "source": [
    "# 모델을 처음부터 다시 훈련\n",
    "model = keras.Sequential([\n",
    "    layers.Dense(64, activation='relu'),\n",
    "    layers.Dense(64, activation='relu'),\n",
    "    layers.Dense(46, activation='softmax')\n",
    "])\n",
    "model.compile(optimizer='rmsprop',\n",
    "              loss='categorical_crossentropy',\n",
    "             metrics=['accuracy'])\n",
    "model.fit(x_train,\n",
    "         y_train,\n",
    "         epochs=9,\n",
    "         batch_size=512)\n",
    "results = model.evaluate(x_test, y_test)\n",
    "print(results)"
   ]
  },
  {
   "cell_type": "code",
   "execution_count": 19,
   "id": "c8c97de2-112a-4eb6-9c7d-6340b82f9afb",
   "metadata": {
    "execution": {
     "iopub.execute_input": "2022-12-08T02:39:06.410346Z",
     "iopub.status.busy": "2022-12-08T02:39:06.410346Z",
     "iopub.status.idle": "2022-12-08T02:39:06.420993Z",
     "shell.execute_reply": "2022-12-08T02:39:06.420480Z",
     "shell.execute_reply.started": "2022-12-08T02:39:06.410346Z"
    }
   },
   "outputs": [],
   "source": [
    "y_train = np.array(train_labels)\n",
    "y_test = np.array(test_labels)"
   ]
  },
  {
   "cell_type": "code",
   "execution_count": 20,
   "id": "ca2b4927-d524-4bf0-a4ab-b2e709753447",
   "metadata": {
    "execution": {
     "iopub.execute_input": "2022-12-08T02:39:42.351969Z",
     "iopub.status.busy": "2022-12-08T02:39:42.351969Z",
     "iopub.status.idle": "2022-12-08T02:39:42.371970Z",
     "shell.execute_reply": "2022-12-08T02:39:42.370969Z",
     "shell.execute_reply.started": "2022-12-08T02:39:42.351969Z"
    }
   },
   "outputs": [],
   "source": [
    "model.compile(optimizer='rmsprop',\n",
    "             loss='sparse_categorical_crossentropy',\n",
    "             metrics=['accuracy'])"
   ]
  },
  {
   "cell_type": "code",
   "execution_count": 21,
   "id": "bafa084f-b862-4f52-98f6-3c6d531677ee",
   "metadata": {
    "execution": {
     "iopub.execute_input": "2022-12-08T02:42:19.798195Z",
     "iopub.status.busy": "2022-12-08T02:42:19.798195Z",
     "iopub.status.idle": "2022-12-08T02:42:30.352880Z",
     "shell.execute_reply": "2022-12-08T02:42:30.352880Z",
     "shell.execute_reply.started": "2022-12-08T02:42:19.798195Z"
    }
   },
   "outputs": [
    {
     "name": "stdout",
     "output_type": "stream",
     "text": [
      "Epoch 1/20\n",
      "63/63 [==============================] - 1s 9ms/step - loss: 2.9836 - accuracy: 0.3786 - val_loss: 2.1444 - val_accuracy: 0.6040\n",
      "Epoch 2/20\n",
      "63/63 [==============================] - 0s 8ms/step - loss: 1.7295 - accuracy: 0.6184 - val_loss: 1.5428 - val_accuracy: 0.6100\n",
      "Epoch 3/20\n",
      "63/63 [==============================] - 0s 8ms/step - loss: 1.3569 - accuracy: 0.6505 - val_loss: 1.4314 - val_accuracy: 0.6470\n",
      "Epoch 4/20\n",
      "63/63 [==============================] - 0s 8ms/step - loss: 1.2001 - accuracy: 0.6803 - val_loss: 1.3985 - val_accuracy: 0.6610\n",
      "Epoch 5/20\n",
      "63/63 [==============================] - 0s 8ms/step - loss: 1.0821 - accuracy: 0.7170 - val_loss: 1.3659 - val_accuracy: 0.6880\n",
      "Epoch 6/20\n",
      "63/63 [==============================] - 0s 8ms/step - loss: 0.9809 - accuracy: 0.7402 - val_loss: 1.3658 - val_accuracy: 0.6950\n",
      "Epoch 7/20\n",
      "63/63 [==============================] - 0s 8ms/step - loss: 0.8948 - accuracy: 0.7595 - val_loss: 1.3529 - val_accuracy: 0.7040\n",
      "Epoch 8/20\n",
      "63/63 [==============================] - 0s 8ms/step - loss: 0.8225 - accuracy: 0.7711 - val_loss: 1.3555 - val_accuracy: 0.7110\n",
      "Epoch 9/20\n",
      "63/63 [==============================] - 0s 8ms/step - loss: 0.7594 - accuracy: 0.7830 - val_loss: 1.3921 - val_accuracy: 0.7080\n",
      "Epoch 10/20\n",
      "63/63 [==============================] - 1s 8ms/step - loss: 0.7051 - accuracy: 0.8004 - val_loss: 1.3939 - val_accuracy: 0.7160\n",
      "Epoch 11/20\n",
      "63/63 [==============================] - 0s 8ms/step - loss: 0.6540 - accuracy: 0.8157 - val_loss: 1.4488 - val_accuracy: 0.7120\n",
      "Epoch 12/20\n",
      "63/63 [==============================] - 0s 8ms/step - loss: 0.6071 - accuracy: 0.8380 - val_loss: 1.4708 - val_accuracy: 0.7240\n",
      "Epoch 13/20\n",
      "63/63 [==============================] - 0s 8ms/step - loss: 0.5657 - accuracy: 0.8522 - val_loss: 1.5027 - val_accuracy: 0.7160\n",
      "Epoch 14/20\n",
      "63/63 [==============================] - 0s 8ms/step - loss: 0.5303 - accuracy: 0.8617 - val_loss: 1.5552 - val_accuracy: 0.7190\n",
      "Epoch 15/20\n",
      "63/63 [==============================] - 1s 8ms/step - loss: 0.4947 - accuracy: 0.8718 - val_loss: 1.6146 - val_accuracy: 0.7110\n",
      "Epoch 16/20\n",
      "63/63 [==============================] - 0s 8ms/step - loss: 0.4678 - accuracy: 0.8801 - val_loss: 1.6807 - val_accuracy: 0.7100\n",
      "Epoch 17/20\n",
      "63/63 [==============================] - 0s 8ms/step - loss: 0.4414 - accuracy: 0.8837 - val_loss: 1.7526 - val_accuracy: 0.7050\n",
      "Epoch 18/20\n",
      "63/63 [==============================] - 1s 8ms/step - loss: 0.4229 - accuracy: 0.8880 - val_loss: 1.7643 - val_accuracy: 0.7070\n",
      "Epoch 19/20\n",
      "63/63 [==============================] - 0s 8ms/step - loss: 0.4010 - accuracy: 0.8926 - val_loss: 1.8383 - val_accuracy: 0.7100\n",
      "Epoch 20/20\n",
      "63/63 [==============================] - 0s 8ms/step - loss: 0.3821 - accuracy: 0.8953 - val_loss: 1.9021 - val_accuracy: 0.7080\n"
     ]
    },
    {
     "data": {
      "text/plain": [
       "<tensorflow.python.keras.callbacks.History at 0x19e38c8c408>"
      ]
     },
     "execution_count": 21,
     "metadata": {},
     "output_type": "execute_result"
    }
   ],
   "source": [
    "# 정보 병목이 있는 모델\n",
    "model = keras.Sequential([\n",
    "    layers.Dense(64, activation='relu'),\n",
    "    layers.Dense(4, activation='relu'),\n",
    "    layers.Dense(46, activation='softmax')\n",
    "])\n",
    "model.compile(optimizer='rmsprop',\n",
    "             loss='categorical_crossentropy',\n",
    "             metrics=['accuracy'])\n",
    "model.fit(partial_x_train,\n",
    "         partial_y_train,\n",
    "         epochs=20,\n",
    "         batch_size=128,\n",
    "         validation_data=(x_val, y_val))"
   ]
  }
 ],
 "metadata": {
  "kernelspec": {
   "display_name": "Python 3 (ipykernel)",
   "language": "python",
   "name": "python3"
  },
  "language_info": {
   "codemirror_mode": {
    "name": "ipython",
    "version": 3
   },
   "file_extension": ".py",
   "mimetype": "text/x-python",
   "name": "python",
   "nbconvert_exporter": "python",
   "pygments_lexer": "ipython3",
   "version": "3.9.15"
  }
 },
 "nbformat": 4,
 "nbformat_minor": 5
}
