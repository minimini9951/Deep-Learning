{
 "cells": [
  {
   "cell_type": "code",
   "execution_count": 1,
   "id": "2593f1a2-985f-496e-bfcb-3a7cf30961dd",
   "metadata": {
    "execution": {
     "iopub.execute_input": "2022-12-12T00:03:24.053302Z",
     "iopub.status.busy": "2022-12-12T00:03:24.052294Z",
     "iopub.status.idle": "2022-12-12T00:03:29.447468Z",
     "shell.execute_reply": "2022-12-12T00:03:29.446461Z",
     "shell.execute_reply.started": "2022-12-12T00:03:24.053302Z"
    },
    "tags": []
   },
   "outputs": [
    {
     "name": "stderr",
     "output_type": "stream",
     "text": [
      "Using TensorFlow backend.\n"
     ]
    }
   ],
   "source": [
    "import warnings\n",
    "warnings.simplefilter(action='ignore', category=FutureWarning)\n",
    "%config Completer.use_jedi = False  # 자동완성 속도 증가\n",
    "import numpy as np\n",
    "import tensorflow as tf\n",
    "tf.compat.v1.enable_eager_execution()\n",
    "from tensorflow import keras\n",
    "from keras import layers"
   ]
  },
  {
   "cell_type": "code",
   "execution_count": 2,
   "id": "16d7eb28-c1ce-4d78-81b9-c4c4a39e540f",
   "metadata": {
    "execution": {
     "iopub.execute_input": "2022-12-12T00:03:29.451468Z",
     "iopub.status.busy": "2022-12-12T00:03:29.450470Z",
     "iopub.status.idle": "2022-12-12T00:03:29.478127Z",
     "shell.execute_reply": "2022-12-12T00:03:29.477119Z",
     "shell.execute_reply.started": "2022-12-12T00:03:29.451468Z"
    },
    "tags": []
   },
   "outputs": [],
   "source": [
    "# 보스턴 주택 데이터셋 로드\n",
    "from tensorflow.keras.datasets import boston_housing\n",
    "\n",
    "(train_data, train_targets), (test_data, test_targets) = (\n",
    "    boston_housing.load_data())"
   ]
  },
  {
   "cell_type": "code",
   "execution_count": 3,
   "id": "649ffcd7-b5ff-49fe-aa10-bb3e950afd82",
   "metadata": {
    "execution": {
     "iopub.execute_input": "2022-12-12T00:03:29.479565Z",
     "iopub.status.busy": "2022-12-12T00:03:29.479565Z",
     "iopub.status.idle": "2022-12-12T00:03:29.493045Z",
     "shell.execute_reply": "2022-12-12T00:03:29.492528Z",
     "shell.execute_reply.started": "2022-12-12T00:03:29.479565Z"
    },
    "tags": []
   },
   "outputs": [],
   "source": [
    "# 데이터 정규화 (테스트 데이터는 정규화에 사용하지 말 것)\n",
    "mean = train_data.mean(axis=0)\n",
    "train_data -= mean\n",
    "std = train_data.std(axis=0)\n",
    "train_data /= std\n",
    "test_data -= mean\n",
    "test_data /= std"
   ]
  },
  {
   "cell_type": "code",
   "execution_count": 4,
   "id": "325c0650-e98b-4ffc-a970-ab0443d93d7e",
   "metadata": {
    "execution": {
     "iopub.execute_input": "2022-12-12T00:03:29.496053Z",
     "iopub.status.busy": "2022-12-12T00:03:29.496053Z",
     "iopub.status.idle": "2022-12-12T00:03:29.509618Z",
     "shell.execute_reply": "2022-12-12T00:03:29.508620Z",
     "shell.execute_reply.started": "2022-12-12T00:03:29.496053Z"
    },
    "tags": []
   },
   "outputs": [],
   "source": [
    "# 모델 정의 (스칼라 회귀를 위한 구성)\n",
    "def build_model():\n",
    "    model = keras.Sequential([\n",
    "        layers.Dense(64, activation='relu'),\n",
    "        layers.Dense(64, activation='relu'),\n",
    "        layers.Dense(1) # 활성화 함수 X\n",
    "    ])\n",
    "    model.compile(optimizer='rmsprop',\n",
    "                 loss='mse',\n",
    "                 metrics=['mae'])\n",
    "    return model"
   ]
  },
  {
   "cell_type": "code",
   "execution_count": 5,
   "id": "e5de7adf-7f78-4fa6-b3a9-da638e71ca42",
   "metadata": {
    "execution": {
     "iopub.execute_input": "2022-12-12T00:03:29.510620Z",
     "iopub.status.busy": "2022-12-12T00:03:29.510620Z",
     "iopub.status.idle": "2022-12-12T00:03:34.722089Z",
     "shell.execute_reply": "2022-12-12T00:03:34.721095Z",
     "shell.execute_reply.started": "2022-12-12T00:03:29.510620Z"
    },
    "tags": []
   },
   "outputs": [
    {
     "name": "stdout",
     "output_type": "stream",
     "text": [
      "#1번째 폴드 처리중\n",
      "#2번째 폴드 처리중\n",
      "#3번째 폴드 처리중\n",
      "#4번째 폴드 처리중\n"
     ]
    }
   ],
   "source": [
    "# k겹 검증\n",
    "k = 4\n",
    "num_val_samples = len(train_data) // k\n",
    "num_epochs = 100\n",
    "all_scores = []\n",
    "for i in range(k):\n",
    "    print(f'#{i + 1}번째 폴드 처리중')\n",
    "    val_data = train_data[i * num_val_samples : (i + 1) * num_val_samples]\n",
    "    val_targets = train_targets[i * num_val_samples : (i + 1) * num_val_samples]\n",
    "    partial_train_data = np.concatenate(\n",
    "        [train_data[:i * num_val_samples],\n",
    "        train_data[(i + 1) * num_val_samples:]],\n",
    "        axis=0)\n",
    "    partial_train_targets = np.concatenate(\n",
    "        [train_targets[:i * num_val_samples],\n",
    "        train_targets[(i + 1) * num_val_samples:]],\n",
    "        axis=0)\n",
    "    model = build_model()\n",
    "    model.fit(partial_train_data, partial_train_targets,\n",
    "             epochs=num_epochs, batch_size=16, verbose=0)\n",
    "    val_mse, val_mae = model.evaluate(val_data, val_targets, verbose=0)\n",
    "    all_scores.append(val_mae)"
   ]
  },
  {
   "cell_type": "code",
   "execution_count": 6,
   "id": "f8885b80-f7f2-4089-bfd8-1dcb27699641",
   "metadata": {
    "execution": {
     "iopub.execute_input": "2022-12-12T00:03:34.723653Z",
     "iopub.status.busy": "2022-12-12T00:03:34.723653Z",
     "iopub.status.idle": "2022-12-12T00:03:34.738112Z",
     "shell.execute_reply": "2022-12-12T00:03:34.737104Z",
     "shell.execute_reply.started": "2022-12-12T00:03:34.723653Z"
    },
    "tags": []
   },
   "outputs": [
    {
     "data": {
      "text/plain": [
       "2.378591239452362"
      ]
     },
     "execution_count": 6,
     "metadata": {},
     "output_type": "execute_result"
    }
   ],
   "source": [
    "np.mean(all_scores)"
   ]
  },
  {
   "cell_type": "code",
   "execution_count": 7,
   "id": "265bbddd-0c5c-4941-bcc0-116c4218e65c",
   "metadata": {
    "execution": {
     "iopub.execute_input": "2022-12-12T00:03:34.739651Z",
     "iopub.status.busy": "2022-12-12T00:03:34.738643Z",
     "iopub.status.idle": "2022-12-12T00:04:25.996951Z",
     "shell.execute_reply": "2022-12-12T00:04:25.996951Z",
     "shell.execute_reply.started": "2022-12-12T00:03:34.739651Z"
    },
    "tags": []
   },
   "outputs": [
    {
     "name": "stdout",
     "output_type": "stream",
     "text": [
      "#1번째 폴드 처리중\n",
      "#2번째 폴드 처리중\n",
      "#3번째 폴드 처리중\n",
      "#4번째 폴드 처리중\n"
     ]
    }
   ],
   "source": [
    "# 각 폴드의 검증 검수 저장\n",
    "num_epochs = 500\n",
    "all_mae_histories = []\n",
    "for i in range(k):\n",
    "    print(f'#{i + 1}번째 폴드 처리중')\n",
    "    val_data = train_data[i * num_val_samples : (i + 1) * num_val_samples]\n",
    "    val_targets = train_targets[i * num_val_samples : (i + 1) * num_val_samples]\n",
    "    partial_train_data = np.concatenate(\n",
    "        [train_data[:i * num_val_samples],\n",
    "        train_data[(i + 1) * num_val_samples:]],\n",
    "        axis=0)\n",
    "    partial_train_targets = np.concatenate(\n",
    "        [train_targets[:i * num_val_samples],\n",
    "        train_targets[(i + 1) * num_val_samples:]],\n",
    "        axis=0)\n",
    "    model = build_model()\n",
    "    history = model.fit(partial_train_data, partial_train_targets,\n",
    "                       validation_data=(val_data, val_targets),\n",
    "                       epochs=num_epochs, batch_size=16, verbose=0)\n",
    "    mae_history = history.history['val_mae']\n",
    "    all_mae_histories.append(mae_history)"
   ]
  },
  {
   "cell_type": "code",
   "execution_count": 8,
   "id": "9d17fa0f-7346-4426-bec4-cb5dab791d09",
   "metadata": {
    "execution": {
     "iopub.execute_input": "2022-12-12T00:04:25.996951Z",
     "iopub.status.busy": "2022-12-12T00:04:25.996951Z",
     "iopub.status.idle": "2022-12-12T00:04:26.012714Z",
     "shell.execute_reply": "2022-12-12T00:04:26.011717Z",
     "shell.execute_reply.started": "2022-12-12T00:04:25.996951Z"
    },
    "tags": []
   },
   "outputs": [],
   "source": [
    "# k겹 검증 점수 평균 기록\n",
    "average_mae_history = [\n",
    "    np.mean([x[i] for x in all_mae_histories]) for i in range(num_epochs)]"
   ]
  },
  {
   "cell_type": "code",
   "execution_count": 9,
   "id": "cca26295-c326-46f3-a657-cf07bbf77ebd",
   "metadata": {
    "execution": {
     "iopub.execute_input": "2022-12-12T00:04:26.014716Z",
     "iopub.status.busy": "2022-12-12T00:04:26.014716Z",
     "iopub.status.idle": "2022-12-12T00:04:27.048012Z",
     "shell.execute_reply": "2022-12-12T00:04:27.048012Z",
     "shell.execute_reply.started": "2022-12-12T00:04:26.014716Z"
    },
    "tags": []
   },
   "outputs": [
    {
     "data": {
      "image/png": "[encoded data removed]",
      "text/plain": [
       "<Figure size 640x480 with 1 Axes>"
      ]
     },
     "metadata": {},
     "output_type": "display_data"
    }
   ],
   "source": [
    "# 검증 점수 그래프 그리기\n",
    "import matplotlib.pyplot as plt\n",
    "plt.plot(range(1, len(average_mae_history) + 1), average_mae_history)\n",
    "plt.xlabel('Epochs')\n",
    "plt.ylabel('Validation MAE')\n",
    "plt.show()"
   ]
  },
  {
   "cell_type": "code",
   "execution_count": 10,
   "id": "3d09e6f6-089e-431e-94ec-22ed03ff5f86",
   "metadata": {
    "execution": {
     "iopub.execute_input": "2022-12-12T00:04:27.051014Z",
     "iopub.status.busy": "2022-12-12T00:04:27.050013Z",
     "iopub.status.idle": "2022-12-12T00:04:27.157365Z",
     "shell.execute_reply": "2022-12-12T00:04:27.156307Z",
     "shell.execute_reply.started": "2022-12-12T00:04:27.050013Z"
    },
    "tags": []
   },
   "outputs": [
    {
     "data": {
      "text/plain": [
       "Text(0, 0.5, 'Validation MAE')"
      ]
     },
     "execution_count": 10,
     "metadata": {},
     "output_type": "execute_result"
    },
    {
     "data": {
      "image/png": "[encoded data removed]",
      "text/plain": [
       "<Figure size 640x480 with 1 Axes>"
      ]
     },
     "metadata": {},
     "output_type": "display_data"
    }
   ],
   "source": [
    "# 처음 10개의 데이터 포인트를 제외한 검증 점수 그래프 그리기\n",
    "truncated_mae_history = average_mae_history[10:]\n",
    "plt.plot(range(1, len(truncated_mae_history) + 1), truncated_mae_history)\n",
    "plt.xlabel('Epochs')\n",
    "plt.ylabel('Validation MAE')"
   ]
  },
  {
   "cell_type": "code",
   "execution_count": 11,
   "id": "6b180fe9-83be-47ab-87e2-36b6b791a357",
   "metadata": {
    "execution": {
     "iopub.execute_input": "2022-12-12T00:30:29.365067Z",
     "iopub.status.busy": "2022-12-12T00:30:29.365067Z",
     "iopub.status.idle": "2022-12-12T00:30:31.135069Z",
     "shell.execute_reply": "2022-12-12T00:30:31.134247Z",
     "shell.execute_reply.started": "2022-12-12T00:30:29.365067Z"
    }
   },
   "outputs": [
    {
     "name": "stdout",
     "output_type": "stream",
     "text": [
      "4/4 [==============================] - 0s 753us/step - loss: 17.5740 - mae: 2.6979\n",
      "2.6979193687438965\n"
     ]
    }
   ],
   "source": [
    "model = build_model()\n",
    "model.fit(train_data, train_targets,\n",
    "         epochs=130, batch_size=16, verbose=0)\n",
    "test_mse_score, test_mae_score = model.evaluate(test_data, test_targets)\n",
    "print(test_mae_score)"
   ]
  },
  {
   "cell_type": "code",
   "execution_count": 12,
   "id": "24a60c81-64e8-42c6-9555-88b32f128ca1",
   "metadata": {
    "execution": {
     "iopub.execute_input": "2022-12-12T00:34:02.318982Z",
     "iopub.status.busy": "2022-12-12T00:34:02.318982Z",
     "iopub.status.idle": "2022-12-12T00:34:02.447339Z",
     "shell.execute_reply": "2022-12-12T00:34:02.446505Z",
     "shell.execute_reply.started": "2022-12-12T00:34:02.318982Z"
    },
    "tags": []
   },
   "outputs": [
    {
     "data": {
      "text/plain": [
       "array([7.2561707], dtype=float32)"
      ]
     },
     "execution_count": 12,
     "metadata": {},
     "output_type": "execute_result"
    }
   ],
   "source": [
    "predictions = model.predict(test_data)\n",
    "predictions[0]"
   ]
  }
 ],
 "metadata": {
  "kernelspec": {
   "display_name": "Python 3 (ipykernel)",
   "language": "python",
   "name": "python3"
  },
  "language_info": {
   "codemirror_mode": {
    "name": "ipython",
    "version": 3
   },
   "file_extension": ".py",
   "mimetype": "text/x-python",
   "name": "python",
   "nbconvert_exporter": "python",
   "pygments_lexer": "ipython3",
   "version": "3.7.12"
  }
 },
 "nbformat": 4,
 "nbformat_minor": 5
}
