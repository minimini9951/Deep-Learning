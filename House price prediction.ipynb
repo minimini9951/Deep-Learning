{
 "cells": [
  {
   "cell_type": "code",
   "execution_count": 6,
   "id": "2593f1a2-985f-496e-bfcb-3a7cf30961dd",
   "metadata": {
    "execution": {
     "iopub.execute_input": "2022-12-08T03:10:36.240480Z",
     "iopub.status.busy": "2022-12-08T03:10:36.240480Z",
     "iopub.status.idle": "2022-12-08T03:10:36.319770Z",
     "shell.execute_reply": "2022-12-08T03:10:36.318769Z",
     "shell.execute_reply.started": "2022-12-08T03:10:36.240480Z"
    },
    "tags": []
   },
   "outputs": [
    {
     "name": "stderr",
     "output_type": "stream",
     "text": [
      "Using TensorFlow backend.\n"
     ]
    }
   ],
   "source": [
    "import warnings\n",
    "warnings.simplefilter(action='ignore', category=FutureWarning)\n",
    "%config Completer.use_jedi = False  # 자동완성 속도 증가\n",
    "import numpy as np\n",
    "import tensorflow as tf\n",
    "tf.compat.v1.enable_eager_execution()\n",
    "from tensorflow import keras\n",
    "from keras import layers"
   ]
  },
  {
   "cell_type": "code",
   "execution_count": 4,
   "id": "16d7eb28-c1ce-4d78-81b9-c4c4a39e540f",
   "metadata": {
    "execution": {
     "iopub.execute_input": "2022-12-08T03:01:49.754644Z",
     "iopub.status.busy": "2022-12-08T03:01:49.754644Z",
     "iopub.status.idle": "2022-12-08T03:01:49.769398Z",
     "shell.execute_reply": "2022-12-08T03:01:49.768396Z",
     "shell.execute_reply.started": "2022-12-08T03:01:49.754644Z"
    },
    "tags": []
   },
   "outputs": [],
   "source": [
    "# 보스턴 주택 데이터셋 로드\n",
    "from tensorflow.keras.datasets import boston_housing\n",
    "\n",
    "(train_data, train_targets), (test_data, test_targets) = (\n",
    "    boston_housing.load_data())"
   ]
  },
  {
   "cell_type": "code",
   "execution_count": 5,
   "id": "649ffcd7-b5ff-49fe-aa10-bb3e950afd82",
   "metadata": {
    "execution": {
     "iopub.execute_input": "2022-12-08T03:09:27.929560Z",
     "iopub.status.busy": "2022-12-08T03:09:27.928561Z",
     "iopub.status.idle": "2022-12-08T03:09:27.942560Z",
     "shell.execute_reply": "2022-12-08T03:09:27.941563Z",
     "shell.execute_reply.started": "2022-12-08T03:09:27.929560Z"
    }
   },
   "outputs": [],
   "source": [
    "# 데이터 정규화 (테스트 데이터는 정규화에 사용하지 말 것)\n",
    "mean = train_data.mean(axis=0)\n",
    "train_data -= mean\n",
    "std = train_data.std(axis=0)\n",
    "train_data /= std\n",
    "test_data -= mean\n",
    "test_data /= std"
   ]
  },
  {
   "cell_type": "code",
   "execution_count": 8,
   "id": "325c0650-e98b-4ffc-a970-ab0443d93d7e",
   "metadata": {
    "execution": {
     "iopub.execute_input": "2022-12-08T03:13:20.804207Z",
     "iopub.status.busy": "2022-12-08T03:13:20.804207Z",
     "iopub.status.idle": "2022-12-08T03:13:20.821506Z",
     "shell.execute_reply": "2022-12-08T03:13:20.819718Z",
     "shell.execute_reply.started": "2022-12-08T03:13:20.804207Z"
    },
    "tags": []
   },
   "outputs": [],
   "source": [
    "# 모델 정의 (스칼라 회귀를 위한 구성)\n",
    "def build_model():\n",
    "    model = keras.Sequential([\n",
    "        layers.Dense(64, activation='relu'),\n",
    "        layers.Dense(64, activation='relu'),\n",
    "        layers.Dense(1) # 활성화 함수 X\n",
    "    ])\n",
    "    model.compile(optimizer='rmsprop',\n",
    "                 loss='mse',\n",
    "                 metrics=['mae'])\n",
    "    return model"
   ]
  },
  {
   "cell_type": "code",
   "execution_count": 10,
   "id": "e5de7adf-7f78-4fa6-b3a9-da638e71ca42",
   "metadata": {
    "execution": {
     "iopub.execute_input": "2022-12-08T03:40:35.730661Z",
     "iopub.status.busy": "2022-12-08T03:40:35.730661Z",
     "iopub.status.idle": "2022-12-08T03:40:35.741662Z",
     "shell.execute_reply": "2022-12-08T03:40:35.740685Z",
     "shell.execute_reply.started": "2022-12-08T03:40:35.730661Z"
    },
    "tags": []
   },
   "outputs": [
    {
     "name": "stdout",
     "output_type": "stream",
     "text": [
      "#1번째 폴드 처리중\n",
      "#2번째 폴드 처리중\n",
      "#3번째 폴드 처리중\n",
      "#4번째 폴드 처리중\n"
     ]
    }
   ],
   "source": [
    "# k겹 검증\n",
    "k = 4\n",
    "num_val_samples = len(train_data) // k\n",
    "num_epochs = 100\n",
    "all_scores = []\n",
    "for i in range(k):\n",
    "    print(f'#{i + 1}번째 폴드 처리중')\n",
    "    val_data = train_data[i * num_val_samples : (i + 1) * num_val_samples]"
   ]
  },
  {
   "cell_type": "code",
   "execution_count": null,
   "id": "f8885b80-f7f2-4089-bfd8-1dcb27699641",
   "metadata": {},
   "outputs": [],
   "source": []
  }
 ],
 "metadata": {
  "kernelspec": {
   "display_name": "Python 3 (ipykernel)",
   "language": "python",
   "name": "python3"
  },
  "language_info": {
   "codemirror_mode": {
    "name": "ipython",
    "version": 3
   },
   "file_extension": ".py",
   "mimetype": "text/x-python",
   "name": "python",
   "nbconvert_exporter": "python",
   "pygments_lexer": "ipython3",
   "version": "3.7.12"
  }
 },
 "nbformat": 4,
 "nbformat_minor": 5
}
