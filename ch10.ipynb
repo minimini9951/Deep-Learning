{
 "cells": [
  {
   "cell_type": "code",
   "execution_count": 2,
   "id": "1233955e-431a-4c66-a1a0-fdebeae1934b",
   "metadata": {
    "execution": {
     "iopub.execute_input": "2022-12-07T08:30:16.928810Z",
     "iopub.status.busy": "2022-12-07T08:30:16.928810Z",
     "iopub.status.idle": "2022-12-07T08:30:17.495156Z",
     "shell.execute_reply": "2022-12-07T08:30:17.495156Z",
     "shell.execute_reply.started": "2022-12-07T08:30:16.928810Z"
    },
    "tags": []
   },
   "outputs": [
    {
     "name": "stdout",
     "output_type": "stream",
     "text": [
      "Model: \"sequential_1\"\n",
      "_________________________________________________________________\n",
      "Layer (type)                 Output Shape              Param #   \n",
      "=================================================================\n",
      "dense_2 (Dense)              (None, 30)                510       \n",
      "_________________________________________________________________\n",
      "dense_3 (Dense)              (None, 1)                 31        \n",
      "=================================================================\n",
      "Total params: 541\n",
      "Trainable params: 541\n",
      "Non-trainable params: 0\n",
      "_________________________________________________________________\n",
      "Epoch 1/5\n",
      "470/470 [==============================] - 0s 189us/sample - loss: 11.4558 - acc: 0.1489\n",
      "Epoch 2/5\n",
      "470/470 [==============================] - 0s 70us/sample - loss: 2.4307 - acc: 0.3660\n",
      "Epoch 3/5\n",
      "470/470 [==============================] - 0s 47us/sample - loss: 0.5262 - acc: 0.8511\n",
      "Epoch 4/5\n",
      "470/470 [==============================] - 0s 42us/sample - loss: 0.4679 - acc: 0.8511\n",
      "Epoch 5/5\n",
      "470/470 [==============================] - 0s 52us/sample - loss: 0.4543 - acc: 0.8511\n"
     ]
    },
    {
     "data": {
      "text/plain": [
       "{'loss': [11.455785994834088,\n",
       "  2.430685904685487,\n",
       "  0.5261566573000969,\n",
       "  0.4679329288766739,\n",
       "  0.454339311224349],\n",
       " 'acc': [0.14893617, 0.36595744, 0.85106385, 0.85106385, 0.85106385]}"
      ]
     },
     "execution_count": 2,
     "metadata": {},
     "output_type": "execute_result"
    }
   ],
   "source": [
    "from tensorflow.keras.models import Sequential\n",
    "from tensorflow.keras.layers import Dense\n",
    "import numpy as np\n",
    "\n",
    "Data_set = np.loadtxt(\"C:\\k_digital\\source\\python_study\\deeplearning3rd\\data\\ThoraricSurgery3.csv\", delimiter=\",\")\n",
    "Data_set.shape\n",
    "\n",
    "X = Data_set[:,0:16]\n",
    "y = Data_set[:,16]\n",
    "\n",
    "model = Sequential()\n",
    "model.add(Dense(30, input_dim=16, activation='relu'))\n",
    "model.add(Dense(1, activation='sigmoid'))\n",
    "model.compile(loss='binary_crossentropy', optimizer='adam', metrics=['accuracy'])\n",
    "model.summary()\n",
    "\n",
    "history=model.fit(X, y, epochs=5, batch_size=16)\n",
    "\n",
    "history.history"
   ]
  }
 ],
 "metadata": {
  "kernelspec": {
   "display_name": "Python 3 (ipykernel)",
   "language": "python",
   "name": "python3"
  },
  "language_info": {
   "codemirror_mode": {
    "name": "ipython",
    "version": 3
   },
   "file_extension": ".py",
   "mimetype": "text/x-python",
   "name": "python",
   "nbconvert_exporter": "python",
   "pygments_lexer": "ipython3",
   "version": "3.7.12"
  }
 },
 "nbformat": 4,
 "nbformat_minor": 5
}
