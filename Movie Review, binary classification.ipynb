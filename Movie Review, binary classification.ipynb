{
 "cells": [
  {
   "cell_type": "code",
   "execution_count": 1,
   "id": "c5abf6ad-0b96-400e-a81e-ef571e0019b9",
   "metadata": {
    "execution": {
     "iopub.execute_input": "2022-12-07T07:24:28.962587Z",
     "iopub.status.busy": "2022-12-07T07:24:28.962587Z",
     "iopub.status.idle": "2022-12-07T07:24:32.219235Z",
     "shell.execute_reply": "2022-12-07T07:24:32.219235Z",
     "shell.execute_reply.started": "2022-12-07T07:24:28.962587Z"
    },
    "tags": []
   },
   "outputs": [],
   "source": [
    "import warnings\n",
    "warnings.simplefilter(action='ignore', category=FutureWarning)\n",
    "import numpy as np\n",
    "import tensorflow as tf\n",
    "tf.compat.v1.enable_eager_execution()\n",
    "%config Completer.use_jedi = False  # 자동완성 속도 증가"
   ]
  },
  {
   "cell_type": "code",
   "execution_count": 2,
   "id": "77dc537b-666f-4652-a392-192d964ee675",
   "metadata": {
    "execution": {
     "iopub.execute_input": "2022-12-07T07:24:32.219235Z",
     "iopub.status.busy": "2022-12-07T07:24:32.219235Z",
     "iopub.status.idle": "2022-12-07T07:24:35.587645Z",
     "shell.execute_reply": "2022-12-07T07:24:35.587645Z",
     "shell.execute_reply.started": "2022-12-07T07:24:32.219235Z"
    },
    "tags": []
   },
   "outputs": [
    {
     "name": "stderr",
     "output_type": "stream",
     "text": [
      "C:\\Anaconda3\\envs\\deep\\lib\\site-packages\\tensorflow\\python\\keras\\datasets\\imdb.py:128: VisibleDeprecationWarning: Creating an ndarray from ragged nested sequences (which is a list-or-tuple of lists-or-tuples-or ndarrays with different lengths or shapes) is deprecated. If you meant to do this, you must specify 'dtype=object' when creating the ndarray.\n",
      "  x_train, y_train = np.array(xs[:idx]), np.array(labels[:idx])\n",
      "C:\\Anaconda3\\envs\\deep\\lib\\site-packages\\tensorflow\\python\\keras\\datasets\\imdb.py:129: VisibleDeprecationWarning: Creating an ndarray from ragged nested sequences (which is a list-or-tuple of lists-or-tuples-or ndarrays with different lengths or shapes) is deprecated. If you meant to do this, you must specify 'dtype=object' when creating the ndarray.\n",
      "  x_test, y_test = np.array(xs[idx:]), np.array(labels[idx:])\n"
     ]
    }
   ],
   "source": [
    "# IMDB 데이터셋 로드\n",
    "from tensorflow.keras.datasets import imdb\n",
    "\n",
    "(train_data, train_labels), (test_data, test_labels) = imdb.load_data(num_words=10000)"
   ]
  },
  {
   "cell_type": "code",
   "execution_count": 3,
   "id": "a1845c75-6755-4135-ab50-44f71b3c3a7f",
   "metadata": {
    "execution": {
     "iopub.execute_input": "2022-12-07T07:24:35.588925Z",
     "iopub.status.busy": "2022-12-07T07:24:35.588925Z",
     "iopub.status.idle": "2022-12-07T07:24:35.725736Z",
     "shell.execute_reply": "2022-12-07T07:24:35.725736Z",
     "shell.execute_reply.started": "2022-12-07T07:24:35.588925Z"
    },
    "tags": []
   },
   "outputs": [
    {
     "data": {
      "text/plain": [
       "9999"
      ]
     },
     "execution_count": 3,
     "metadata": {},
     "output_type": "execute_result"
    }
   ],
   "source": [
    "max([max(sequence) for sequence in train_data])"
   ]
  },
  {
   "cell_type": "code",
   "execution_count": 4,
   "id": "464bf43a-e217-4e07-85b7-c02f0b271de5",
   "metadata": {
    "execution": {
     "iopub.execute_input": "2022-12-07T07:24:35.736766Z",
     "iopub.status.busy": "2022-12-07T07:24:35.733749Z",
     "iopub.status.idle": "2022-12-07T07:24:35.831111Z",
     "shell.execute_reply": "2022-12-07T07:24:35.831111Z",
     "shell.execute_reply.started": "2022-12-07T07:24:35.736766Z"
    },
    "tags": []
   },
   "outputs": [],
   "source": [
    "# 리뷰를 다시 텍스트로 디코딩\n",
    "word_index = imdb.get_word_index() # word_index는 단어와 정수 인덱스를 매핑한 딕셔너리\n",
    "reverse_word_index = dict(\n",
    "    [(value, key) for (key, value) in word_index.items()]) # 정수 인덱스와 단어를 매핑하도록 뒤집기\n",
    "decorded_review = ' '.join(\n",
    "    [reverse_word_index.get(i - 3, '?') for i in train_data[0]]) # 리뷰를 디코딩, 0, 1, 2 는 예약어 이므로 인덱스에서 3을 뺌"
   ]
  },
  {
   "cell_type": "code",
   "execution_count": 5,
   "id": "36dc44b5-27ea-4c39-af3b-d91c697d356c",
   "metadata": {
    "execution": {
     "iopub.execute_input": "2022-12-07T07:24:35.831111Z",
     "iopub.status.busy": "2022-12-07T07:24:35.831111Z",
     "iopub.status.idle": "2022-12-07T07:24:38.012220Z",
     "shell.execute_reply": "2022-12-07T07:24:38.012220Z",
     "shell.execute_reply.started": "2022-12-07T07:24:35.831111Z"
    },
    "tags": []
   },
   "outputs": [],
   "source": [
    "# 정수 시퀀스를 멀티 핫 인코딩으로 인코딩\n",
    "def vectorize_sequences(sequences, dimension=10000):\n",
    "    results = np.zeros((len(sequences), dimension))\n",
    "    for i, sequences in enumerate(sequences):\n",
    "        for j in sequences:\n",
    "            results[i, j] = 1.\n",
    "    return results\n",
    "x_train = vectorize_sequences(train_data)\n",
    "x_test = vectorize_sequences(test_data)\n",
    "y_train = np.asarray(train_labels).astype('float32')\n",
    "y_test = np.asarray(test_labels).astype('float32')"
   ]
  },
  {
   "cell_type": "code",
   "execution_count": 6,
   "id": "d820d8c8-8975-4c31-a505-0f46f44373a5",
   "metadata": {
    "execution": {
     "iopub.execute_input": "2022-12-07T07:24:38.012220Z",
     "iopub.status.busy": "2022-12-07T07:24:38.012220Z",
     "iopub.status.idle": "2022-12-07T07:24:38.028040Z",
     "shell.execute_reply": "2022-12-07T07:24:38.028040Z",
     "shell.execute_reply.started": "2022-12-07T07:24:38.012220Z"
    },
    "tags": []
   },
   "outputs": [
    {
     "name": "stdout",
     "output_type": "stream",
     "text": [
      "(25000, 10000)\n",
      "(25000,)\n"
     ]
    }
   ],
   "source": [
    "print(x_train.shape)\n",
    "print(y_train.shape)"
   ]
  },
  {
   "cell_type": "code",
   "execution_count": 7,
   "id": "dc175e3d-f6e8-4ded-b0ff-91d0fd48ff22",
   "metadata": {
    "execution": {
     "iopub.execute_input": "2022-12-07T07:24:38.028040Z",
     "iopub.status.busy": "2022-12-07T07:24:38.028040Z",
     "iopub.status.idle": "2022-12-07T07:24:38.061239Z",
     "shell.execute_reply": "2022-12-07T07:24:38.059636Z",
     "shell.execute_reply.started": "2022-12-07T07:24:38.028040Z"
    },
    "tags": []
   },
   "outputs": [],
   "source": [
    "# 모델 정의하기\n",
    "from tensorflow import keras\n",
    "from tensorflow.keras import layers\n",
    "\n",
    "model = keras.Sequential([\n",
    "    layers.Dense(16, activation='relu'),\n",
    "    layers.Dense(16, activation='relu'),\n",
    "    layers.Dense(1, activation='sigmoid')\n",
    "])"
   ]
  },
  {
   "cell_type": "code",
   "execution_count": 8,
   "id": "033c2c6d-7b9a-4600-aaf2-2a0a2018fcc5",
   "metadata": {
    "execution": {
     "iopub.execute_input": "2022-12-07T07:24:38.061239Z",
     "iopub.status.busy": "2022-12-07T07:24:38.061239Z",
     "iopub.status.idle": "2022-12-07T07:24:38.077565Z",
     "shell.execute_reply": "2022-12-07T07:24:38.077565Z",
     "shell.execute_reply.started": "2022-12-07T07:24:38.061239Z"
    },
    "tags": []
   },
   "outputs": [],
   "source": [
    "# 모델 컴파일\n",
    "model.compile(optimizer='rmsprop',\n",
    "             loss='binary_crossentropy',\n",
    "             metrics=['accuracy'])"
   ]
  },
  {
   "cell_type": "code",
   "execution_count": 9,
   "id": "a008a234-eebc-4c12-94d6-355e195fc410",
   "metadata": {
    "execution": {
     "iopub.execute_input": "2022-12-07T07:24:38.077565Z",
     "iopub.status.busy": "2022-12-07T07:24:38.077565Z",
     "iopub.status.idle": "2022-12-07T07:24:38.093577Z",
     "shell.execute_reply": "2022-12-07T07:24:38.093577Z",
     "shell.execute_reply.started": "2022-12-07T07:24:38.077565Z"
    },
    "tags": []
   },
   "outputs": [],
   "source": [
    "# 검증 세트 준비\n",
    "x_val = x_train[:10000]\n",
    "partial_x_train = x_train[10000:]\n",
    "y_val = y_train[:10000]\n",
    "partial_y_train = y_train[10000:]"
   ]
  },
  {
   "cell_type": "code",
   "execution_count": 10,
   "id": "51f6cb3c-a9b9-4684-b4fc-eeb2f180686f",
   "metadata": {
    "execution": {
     "iopub.execute_input": "2022-12-07T07:24:38.093577Z",
     "iopub.status.busy": "2022-12-07T07:24:38.093577Z",
     "iopub.status.idle": "2022-12-07T07:25:04.921351Z",
     "shell.execute_reply": "2022-12-07T07:25:04.920817Z",
     "shell.execute_reply.started": "2022-12-07T07:24:38.093577Z"
    },
    "tags": []
   },
   "outputs": [
    {
     "name": "stdout",
     "output_type": "stream",
     "text": [
      "Train on 15000 samples, validate on 10000 samples\n",
      "WARNING:tensorflow:From C:\\Anaconda3\\envs\\deep\\lib\\site-packages\\tensorflow\\python\\ops\\math_grad.py:1250: add_dispatch_support.<locals>.wrapper (from tensorflow.python.ops.array_ops) is deprecated and will be removed in a future version.\n",
      "Instructions for updating:\n",
      "Use tf.where in 2.0, which has the same broadcast rule as np.where\n",
      "Epoch 1/20\n",
      "15000/15000 [==============================] - 2s 124us/sample - loss: 0.5085 - acc: 0.7895 - val_loss: 0.3963 - val_acc: 0.8573\n",
      "Epoch 2/20\n",
      "15000/15000 [==============================] - 1s 87us/sample - loss: 0.3061 - acc: 0.9022 - val_loss: 0.3124 - val_acc: 0.8819\n",
      "Epoch 3/20\n",
      "15000/15000 [==============================] - 1s 84us/sample - loss: 0.2251 - acc: 0.9261 - val_loss: 0.2769 - val_acc: 0.8909\n",
      "Epoch 4/20\n",
      "15000/15000 [==============================] - 1s 85us/sample - loss: 0.1797 - acc: 0.9398 - val_loss: 0.2755 - val_acc: 0.8886\n",
      "Epoch 5/20\n",
      "15000/15000 [==============================] - 1s 85us/sample - loss: 0.1443 - acc: 0.9534 - val_loss: 0.2787 - val_acc: 0.8885\n",
      "Epoch 6/20\n",
      "15000/15000 [==============================] - 1s 83us/sample - loss: 0.1208 - acc: 0.9623 - val_loss: 0.2899 - val_acc: 0.8864\n",
      "Epoch 7/20\n",
      "15000/15000 [==============================] - 1s 83us/sample - loss: 0.1016 - acc: 0.9697 - val_loss: 0.3085 - val_acc: 0.8833\n",
      "Epoch 8/20\n",
      "15000/15000 [==============================] - 1s 85us/sample - loss: 0.0821 - acc: 0.9775 - val_loss: 0.3265 - val_acc: 0.8819\n",
      "Epoch 9/20\n",
      "15000/15000 [==============================] - 1s 84us/sample - loss: 0.0686 - acc: 0.9815 - val_loss: 0.3526 - val_acc: 0.8813\n",
      "Epoch 10/20\n",
      "15000/15000 [==============================] - 1s 85us/sample - loss: 0.0554 - acc: 0.9856 - val_loss: 0.3742 - val_acc: 0.8744\n",
      "Epoch 11/20\n",
      "15000/15000 [==============================] - 1s 86us/sample - loss: 0.0455 - acc: 0.9882 - val_loss: 0.4179 - val_acc: 0.8713\n",
      "Epoch 12/20\n",
      "15000/15000 [==============================] - 1s 83us/sample - loss: 0.0341 - acc: 0.9929 - val_loss: 0.4282 - val_acc: 0.8753\n",
      "Epoch 13/20\n",
      "15000/15000 [==============================] - 1s 82us/sample - loss: 0.0281 - acc: 0.9941 - val_loss: 0.4569 - val_acc: 0.8741\n",
      "Epoch 14/20\n",
      "15000/15000 [==============================] - 1s 84us/sample - loss: 0.0229 - acc: 0.9949 - val_loss: 0.4890 - val_acc: 0.8709\n",
      "Epoch 15/20\n",
      "15000/15000 [==============================] - 1s 84us/sample - loss: 0.0189 - acc: 0.9967 - val_loss: 0.5179 - val_acc: 0.8701\n",
      "Epoch 16/20\n",
      "15000/15000 [==============================] - 1s 83us/sample - loss: 0.0139 - acc: 0.9977 - val_loss: 0.5451 - val_acc: 0.8708\n",
      "Epoch 17/20\n",
      "15000/15000 [==============================] - 1s 87us/sample - loss: 0.0079 - acc: 0.9996 - val_loss: 0.5782 - val_acc: 0.8682\n",
      "Epoch 18/20\n",
      "15000/15000 [==============================] - 1s 85us/sample - loss: 0.0113 - acc: 0.9979 - val_loss: 0.6153 - val_acc: 0.8683\n",
      "Epoch 19/20\n",
      "15000/15000 [==============================] - 1s 85us/sample - loss: 0.0043 - acc: 0.9999 - val_loss: 0.6403 - val_acc: 0.8671\n",
      "Epoch 20/20\n",
      "15000/15000 [==============================] - 1s 85us/sample - loss: 0.0049 - acc: 0.9996 - val_loss: 0.6714 - val_acc: 0.8687\n"
     ]
    }
   ],
   "source": [
    "# 모델 훈련\n",
    "history = model.fit(partial_x_train,\n",
    "                   partial_y_train,\n",
    "                   epochs=20,\n",
    "                   batch_size=512,\n",
    "                   validation_data=(x_val, y_val))"
   ]
  },
  {
   "cell_type": "code",
   "execution_count": 20,
   "id": "0337c285-fa5f-4aa3-a46c-21d59654c42e",
   "metadata": {
    "execution": {
     "iopub.execute_input": "2022-12-07T08:07:09.104421Z",
     "iopub.status.busy": "2022-12-07T08:07:09.097906Z",
     "iopub.status.idle": "2022-12-07T08:07:09.251932Z",
     "shell.execute_reply": "2022-12-07T08:07:09.251173Z",
     "shell.execute_reply.started": "2022-12-07T08:07:09.104421Z"
    },
    "tags": []
   },
   "outputs": [
    {
     "data": {
      "image/png": "[encoded data removed]",
      "text/plain": [
       "<Figure size 640x480 with 1 Axes>"
      ]
     },
     "metadata": {},
     "output_type": "display_data"
    }
   ],
   "source": [
    "import matplotlib.pyplot as plt\n",
    "\n",
    "history_dict = history.history\n",
    "loss_values = history_dict['loss']\n",
    "val_loss_values = history_dict['val_loss']\n",
    "epochs = range(1, len(loss_values) + 1)\n",
    "plt.plot(epochs, loss_values, 'bo', label='Training loss') # bo는 파란색 점\n",
    "plt.plot(epochs, val_loss_values, 'b', label='Validation loss') # b는 파란색 실선\n",
    "plt.title('Training and validation loss')\n",
    "plt.xlabel('Epochs')\n",
    "plt.ylabel('Loss')\n",
    "plt.legend()\n",
    "plt.show()"
   ]
  },
  {
   "cell_type": "code",
   "execution_count": 19,
   "id": "ec383efe-6980-4236-8e5d-47391b5a44ab",
   "metadata": {
    "execution": {
     "iopub.execute_input": "2022-12-07T08:05:07.560553Z",
     "iopub.status.busy": "2022-12-07T08:05:07.560553Z",
     "iopub.status.idle": "2022-12-07T08:05:07.576550Z",
     "shell.execute_reply": "2022-12-07T08:05:07.576550Z",
     "shell.execute_reply.started": "2022-12-07T08:05:07.560553Z"
    },
    "tags": []
   },
   "outputs": [
    {
     "data": {
      "text/plain": [
       "dict_keys(['loss', 'acc', 'val_loss', 'val_acc'])"
      ]
     },
     "execution_count": 19,
     "metadata": {},
     "output_type": "execute_result"
    }
   ],
   "source": [
    "history_dict.keys()"
   ]
  },
  {
   "cell_type": "code",
   "execution_count": 22,
   "id": "a4d04a47-5c02-48bd-bc02-0c17b441d934",
   "metadata": {
    "execution": {
     "iopub.execute_input": "2022-12-07T08:09:47.609944Z",
     "iopub.status.busy": "2022-12-07T08:09:47.609745Z",
     "iopub.status.idle": "2022-12-07T08:09:47.778273Z",
     "shell.execute_reply": "2022-12-07T08:09:47.778273Z",
     "shell.execute_reply.started": "2022-12-07T08:09:47.609944Z"
    },
    "tags": []
   },
   "outputs": [
    {
     "data": {
      "image/png": "[encoded data removed]",
      "text/plain": [
       "<Figure size 640x480 with 1 Axes>"
      ]
     },
     "metadata": {},
     "output_type": "display_data"
    }
   ],
   "source": [
    "plt.clf()\n",
    "acc = history_dict['acc']\n",
    "val_acc = history_dict['val_acc']\n",
    "plt.plot(epochs, acc, 'bo', label='Training acc')\n",
    "plt.plot(epochs, val_acc, 'b', label='Validation acc')\n",
    "plt.title('Training and validation accuracy')\n",
    "plt.xlabel('Epochs')\n",
    "plt.ylabel('Accuracy')\n",
    "plt.legend()\n",
    "plt.show()"
   ]
  },
  {
   "cell_type": "code",
   "execution_count": 25,
   "id": "16cb24ca-7914-4640-bcb0-bd8683588685",
   "metadata": {
    "execution": {
     "iopub.execute_input": "2022-12-07T08:13:08.675200Z",
     "iopub.status.busy": "2022-12-07T08:13:08.675200Z",
     "iopub.status.idle": "2022-12-07T08:13:17.526276Z",
     "shell.execute_reply": "2022-12-07T08:13:17.526276Z",
     "shell.execute_reply.started": "2022-12-07T08:13:08.675200Z"
    },
    "tags": []
   },
   "outputs": [
    {
     "name": "stdout",
     "output_type": "stream",
     "text": [
      "Epoch 1/4\n",
      "25000/25000 [==============================] - 2s 67us/sample - loss: 0.4828 - acc: 0.8186\n",
      "Epoch 2/4\n",
      "25000/25000 [==============================] - 1s 53us/sample - loss: 0.2720 - acc: 0.9064\n",
      "Epoch 3/4\n",
      "25000/25000 [==============================] - 1s 52us/sample - loss: 0.2070 - acc: 0.9264\n",
      "Epoch 4/4\n",
      "25000/25000 [==============================] - 1s 55us/sample - loss: 0.1724 - acc: 0.9389\n",
      "25000/25000 [==============================] - 2s 94us/sample - loss: 0.2871 - acc: 0.8867\n"
     ]
    },
    {
     "data": {
      "text/plain": [
       "[0.28713915091991427, 0.88672]"
      ]
     },
     "execution_count": 25,
     "metadata": {},
     "output_type": "execute_result"
    }
   ],
   "source": [
    "model = keras.Sequential([\n",
    "    layers.Dense(16, activation='relu'),\n",
    "    layers.Dense(16, activation='relu'),\n",
    "    layers.Dense(1, activation='sigmoid')\n",
    "])\n",
    "model.compile(optimizer='rmsprop',\n",
    "             loss='binary_crossentropy',\n",
    "             metrics=['accuracy'])\n",
    "model.fit(x_train, y_train, epochs=4, batch_size=512)\n",
    "results = model.evaluate(x_test, y_test)\n",
    "results"
   ]
  },
  {
   "cell_type": "code",
   "execution_count": 26,
   "id": "3dfcde09-2019-4038-85ae-d548a4891b5e",
   "metadata": {
    "execution": {
     "iopub.execute_input": "2022-12-07T08:14:14.869262Z",
     "iopub.status.busy": "2022-12-07T08:14:14.869262Z",
     "iopub.status.idle": "2022-12-07T08:14:16.542653Z",
     "shell.execute_reply": "2022-12-07T08:14:16.542653Z",
     "shell.execute_reply.started": "2022-12-07T08:14:14.869262Z"
    }
   },
   "outputs": [
    {
     "data": {
      "text/plain": [
       "array([[0.23292068],\n",
       "       [0.999689  ],\n",
       "       [0.9327723 ],\n",
       "       ...,\n",
       "       [0.11834323],\n",
       "       [0.08916673],\n",
       "       [0.5384673 ]], dtype=float32)"
      ]
     },
     "execution_count": 26,
     "metadata": {},
     "output_type": "execute_result"
    }
   ],
   "source": [
    "model.predict(x_test)"
   ]
  },
  {
   "cell_type": "code",
   "execution_count": 28,
   "id": "3fd5cb68-3530-4965-87ec-73fb972f9fb4",
   "metadata": {
    "execution": {
     "iopub.execute_input": "2022-12-07T08:17:26.931563Z",
     "iopub.status.busy": "2022-12-07T08:17:26.931563Z",
     "iopub.status.idle": "2022-12-07T08:17:36.881371Z",
     "shell.execute_reply": "2022-12-07T08:17:36.880996Z",
     "shell.execute_reply.started": "2022-12-07T08:17:26.931563Z"
    },
    "tags": []
   },
   "outputs": [
    {
     "name": "stdout",
     "output_type": "stream",
     "text": [
      "Epoch 1/4\n",
      "25000/25000 [==============================] - 1s 56us/sample - loss: 0.4518 - acc: 0.8334\n",
      "Epoch 2/4\n",
      "25000/25000 [==============================] - 1s 52us/sample - loss: 0.2812 - acc: 0.9064\n",
      "Epoch 3/4\n",
      "25000/25000 [==============================] - 1s 53us/sample - loss: 0.2222 - acc: 0.9237\n",
      "Epoch 4/4\n",
      "25000/25000 [==============================] - 1s 53us/sample - loss: 0.1894 - acc: 0.9338\n",
      "25000/25000 [==============================] - 2s 92us/sample - loss: 0.2803 - acc: 0.8879\n",
      "[0.2802558357906342, 0.88792]\n"
     ]
    },
    {
     "data": {
      "text/plain": [
       "array([[0.2621408 ],\n",
       "       [0.99980783],\n",
       "       [0.8734432 ],\n",
       "       ...,\n",
       "       [0.12965754],\n",
       "       [0.10329348],\n",
       "       [0.5716919 ]], dtype=float32)"
      ]
     },
     "execution_count": 28,
     "metadata": {},
     "output_type": "execute_result"
    }
   ],
   "source": [
    "# 추가실험 : 표현층 1개\n",
    "model = keras.Sequential([\n",
    "    layers.Dense(16, activation='relu'),\n",
    "    layers.Dense(1, activation='sigmoid')\n",
    "])\n",
    "model.compile(optimizer='rmsprop',\n",
    "             loss='binary_crossentropy',\n",
    "             metrics=['accuracy'])\n",
    "model.fit(x_train, y_train, epochs=4, batch_size=512)\n",
    "results = model.evaluate(x_test, y_test)\n",
    "print(results)\n",
    "model.predict(x_test)"
   ]
  },
  {
   "cell_type": "code",
   "execution_count": 29,
   "id": "2378741f-b731-4469-b7aa-227ca06e1618",
   "metadata": {
    "execution": {
     "iopub.execute_input": "2022-12-07T08:18:10.685745Z",
     "iopub.status.busy": "2022-12-07T08:18:10.685745Z",
     "iopub.status.idle": "2022-12-07T08:18:21.681274Z",
     "shell.execute_reply": "2022-12-07T08:18:21.681274Z",
     "shell.execute_reply.started": "2022-12-07T08:18:10.685745Z"
    }
   },
   "outputs": [
    {
     "name": "stdout",
     "output_type": "stream",
     "text": [
      "Epoch 1/4\n",
      "25000/25000 [==============================] - 1s 58us/sample - loss: 0.4445 - acc: 0.8178\n",
      "Epoch 2/4\n",
      "25000/25000 [==============================] - 1s 54us/sample - loss: 0.2438 - acc: 0.9117\n",
      "Epoch 3/4\n",
      "25000/25000 [==============================] - 1s 54us/sample - loss: 0.1931 - acc: 0.9269\n",
      "Epoch 4/4\n",
      "25000/25000 [==============================] - 1s 52us/sample - loss: 0.1575 - acc: 0.9436\n",
      "25000/25000 [==============================] - 2s 95us/sample - loss: 0.3111 - acc: 0.8798\n",
      "[0.3111437478876114, 0.8798]\n"
     ]
    },
    {
     "data": {
      "text/plain": [
       "array([[0.14465734],\n",
       "       [0.9994493 ],\n",
       "       [0.96294415],\n",
       "       ...,\n",
       "       [0.13304693],\n",
       "       [0.04987609],\n",
       "       [0.71714294]], dtype=float32)"
      ]
     },
     "execution_count": 29,
     "metadata": {},
     "output_type": "execute_result"
    }
   ],
   "source": [
    "# 추가실험 : 표현층 3개\n",
    "model = keras.Sequential([\n",
    "    layers.Dense(16, activation='relu'),\n",
    "    layers.Dense(16, activation='relu'),\n",
    "    layers.Dense(16, activation='relu'),\n",
    "    layers.Dense(1, activation='sigmoid')\n",
    "])\n",
    "model.compile(optimizer='rmsprop',\n",
    "             loss='binary_crossentropy',\n",
    "             metrics=['accuracy'])\n",
    "model.fit(x_train, y_train, epochs=4, batch_size=512)\n",
    "results = model.evaluate(x_test, y_test)\n",
    "print(results)\n",
    "model.predict(x_test)"
   ]
  },
  {
   "cell_type": "code",
   "execution_count": 31,
   "id": "6430f867-b415-4919-a35e-3a804a312ea5",
   "metadata": {
    "execution": {
     "iopub.execute_input": "2022-12-07T08:19:26.074395Z",
     "iopub.status.busy": "2022-12-07T08:19:26.074395Z",
     "iopub.status.idle": "2022-12-07T08:19:37.325361Z",
     "shell.execute_reply": "2022-12-07T08:19:37.325361Z",
     "shell.execute_reply.started": "2022-12-07T08:19:26.074395Z"
    },
    "tags": []
   },
   "outputs": [
    {
     "name": "stdout",
     "output_type": "stream",
     "text": [
      "Epoch 1/4\n",
      "25000/25000 [==============================] - 1s 58us/sample - loss: 0.4518 - acc: 0.8205\n",
      "Epoch 2/4\n",
      "25000/25000 [==============================] - 1s 53us/sample - loss: 0.2547 - acc: 0.9080\n",
      "Epoch 3/4\n",
      "25000/25000 [==============================] - 1s 55us/sample - loss: 0.1955 - acc: 0.9300\n",
      "Epoch 4/4\n",
      "25000/25000 [==============================] - 1s 54us/sample - loss: 0.1619 - acc: 0.9415\n",
      "25000/25000 [==============================] - 3s 104us/sample - loss: 0.3234 - acc: 0.8756\n",
      "[0.3233824469089508, 0.87556]\n"
     ]
    },
    {
     "data": {
      "text/plain": [
       "array([[0.27908796],\n",
       "       [0.9999348 ],\n",
       "       [0.9475651 ],\n",
       "       ...,\n",
       "       [0.21817806],\n",
       "       [0.10249126],\n",
       "       [0.82539546]], dtype=float32)"
      ]
     },
     "execution_count": 31,
     "metadata": {},
     "output_type": "execute_result"
    }
   ],
   "source": [
    "# 추가실험 : 층의 유닛 추가\n",
    "model = keras.Sequential([\n",
    "    layers.Dense(16, activation='relu'),\n",
    "    layers.Dense(32, activation='relu'),\n",
    "    layers.Dense(1, activation='sigmoid')\n",
    "])\n",
    "model.compile(optimizer='rmsprop',\n",
    "             loss='binary_crossentropy',\n",
    "             metrics=['accuracy'])\n",
    "model.fit(x_train, y_train, epochs=4, batch_size=512)\n",
    "results = model.evaluate(x_test, y_test)\n",
    "print(results)\n",
    "model.predict(x_test)"
   ]
  },
  {
   "cell_type": "code",
   "execution_count": 32,
   "id": "f88bacc2-0d9a-4eb0-af1a-ef5f8d114455",
   "metadata": {
    "execution": {
     "iopub.execute_input": "2022-12-07T08:20:08.305452Z",
     "iopub.status.busy": "2022-12-07T08:20:08.305452Z",
     "iopub.status.idle": "2022-12-07T08:20:18.266662Z",
     "shell.execute_reply": "2022-12-07T08:20:18.266662Z",
     "shell.execute_reply.started": "2022-12-07T08:20:08.305452Z"
    }
   },
   "outputs": [
    {
     "name": "stdout",
     "output_type": "stream",
     "text": [
      "Epoch 1/4\n",
      "25000/25000 [==============================] - 1s 59us/sample - loss: 0.1633 - acc: 0.8090\n",
      "Epoch 2/4\n",
      "25000/25000 [==============================] - 1s 54us/sample - loss: 0.0838 - acc: 0.9090\n",
      "Epoch 3/4\n",
      "25000/25000 [==============================] - 1s 56us/sample - loss: 0.0614 - acc: 0.9300\n",
      "Epoch 4/4\n",
      "25000/25000 [==============================] - 1s 53us/sample - loss: 0.0502 - acc: 0.9412\n",
      "25000/25000 [==============================] - 2s 82us/sample - loss: 0.0883 - acc: 0.8795\n",
      "[0.08830929054498672, 0.87952]\n"
     ]
    },
    {
     "data": {
      "text/plain": [
       "array([[0.16161329],\n",
       "       [0.99968743],\n",
       "       [0.79819655],\n",
       "       ...,\n",
       "       [0.13873291],\n",
       "       [0.11045215],\n",
       "       [0.55333346]], dtype=float32)"
      ]
     },
     "execution_count": 32,
     "metadata": {},
     "output_type": "execute_result"
    }
   ],
   "source": [
    "# 추가실험 : 손실함수 mse 사용\n",
    "model = keras.Sequential([\n",
    "    layers.Dense(16, activation='relu'),\n",
    "    layers.Dense(16, activation='relu'),\n",
    "    layers.Dense(1, activation='sigmoid')\n",
    "])\n",
    "model.compile(optimizer='rmsprop',\n",
    "             loss='mse',\n",
    "             metrics=['accuracy'])\n",
    "model.fit(x_train, y_train, epochs=4, batch_size=512)\n",
    "results = model.evaluate(x_test, y_test)\n",
    "print(results)\n",
    "model.predict(x_test)"
   ]
  },
  {
   "cell_type": "code",
   "execution_count": 34,
   "id": "2e5f0c6b-8f77-468f-a4b6-950f23613936",
   "metadata": {
    "execution": {
     "iopub.execute_input": "2022-12-07T08:21:36.450689Z",
     "iopub.status.busy": "2022-12-07T08:21:36.450689Z",
     "iopub.status.idle": "2022-12-07T08:21:47.526269Z",
     "shell.execute_reply": "2022-12-07T08:21:47.526269Z",
     "shell.execute_reply.started": "2022-12-07T08:21:36.450689Z"
    },
    "tags": []
   },
   "outputs": [
    {
     "name": "stdout",
     "output_type": "stream",
     "text": [
      "Epoch 1/4\n",
      "25000/25000 [==============================] - 1s 60us/sample - loss: 0.4156 - acc: 0.8255\n",
      "Epoch 2/4\n",
      "25000/25000 [==============================] - 1s 53us/sample - loss: 0.2227 - acc: 0.9157\n",
      "Epoch 3/4\n",
      "25000/25000 [==============================] - 1s 54us/sample - loss: 0.1756 - acc: 0.9346\n",
      "Epoch 4/4\n",
      "25000/25000 [==============================] - 1s 53us/sample - loss: 0.1498 - acc: 0.9436\n",
      "25000/25000 [==============================] - 3s 107us/sample - loss: 0.3844 - acc: 0.8618\n",
      "[0.38441807333946226, 0.86176]\n"
     ]
    },
    {
     "data": {
      "text/plain": [
       "array([[0.17421341],\n",
       "       [0.9997019 ],\n",
       "       [0.9659686 ],\n",
       "       ...,\n",
       "       [0.2870426 ],\n",
       "       [0.0838795 ],\n",
       "       [0.95048165]], dtype=float32)"
      ]
     },
     "execution_count": 34,
     "metadata": {},
     "output_type": "execute_result"
    }
   ],
   "source": [
    "# 추가실험 : tanh 활성화 함수 사용\n",
    "model = keras.Sequential([\n",
    "    layers.Dense(16, activation='tanh'),\n",
    "    layers.Dense(32, activation='tanh'),\n",
    "    layers.Dense(1, activation='sigmoid')\n",
    "])\n",
    "model.compile(optimizer='rmsprop',\n",
    "             loss='binary_crossentropy',\n",
    "             metrics=['accuracy'])\n",
    "model.fit(x_train, y_train, epochs=4, batch_size=512)\n",
    "results = model.evaluate(x_test, y_test)\n",
    "print(results)\n",
    "model.predict(x_test)"
   ]
  }
 ],
 "metadata": {
  "kernelspec": {
   "display_name": "Python 3 (ipykernel)",
   "language": "python",
   "name": "python3"
  },
  "language_info": {
   "codemirror_mode": {
    "name": "ipython",
    "version": 3
   },
   "file_extension": ".py",
   "mimetype": "text/x-python",
   "name": "python",
   "nbconvert_exporter": "python",
   "pygments_lexer": "ipython3",
   "version": "3.7.12"
  }
 },
 "nbformat": 4,
 "nbformat_minor": 5
}
