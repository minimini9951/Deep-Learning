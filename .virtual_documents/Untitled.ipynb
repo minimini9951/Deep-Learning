get_ipython().run_line_magic("config", " Completer.use_jedi = False  # 자동완성 속도 증가")


from pprint import pprint as pp

import requests
from bs4 import BeautifulSoup


resp = requests.get("http://quotes.toscrape.com")  # reponse 객체 리턴
resp.headers["Server"]
pp(resp.text)

soup = BeautifulSoup(resp.text, "html.parser")  # 적절한 parser 설정



