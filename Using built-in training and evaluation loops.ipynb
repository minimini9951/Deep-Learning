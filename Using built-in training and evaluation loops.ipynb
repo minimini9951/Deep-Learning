{
 "cells": [
  {
   "cell_type": "code",
   "execution_count": 1,
   "id": "3869db5c-4d56-4e7e-a6b8-84427b8c91bc",
   "metadata": {
    "execution": {
     "iopub.execute_input": "2023-01-03T05:38:51.014300Z",
     "iopub.status.busy": "2023-01-03T05:38:51.014300Z",
     "iopub.status.idle": "2023-01-03T05:38:53.994429Z",
     "shell.execute_reply": "2023-01-03T05:38:53.994429Z",
     "shell.execute_reply.started": "2023-01-03T05:38:51.014300Z"
    },
    "tags": []
   },
   "outputs": [],
   "source": [
    "import numpy as np\n",
    "from tensorflow import keras\n",
    "from tensorflow.keras import layers\n",
    "from tensorflow.keras.datasets import mnist\n",
    "\n",
    "%config Completer.use_jedi = False  # 자동완성 속도 증가"
   ]
  },
  {
   "cell_type": "markdown",
   "id": "e0aba09a-3294-472c-b656-93828856f488",
   "metadata": {},
   "source": [
    "# 내장된 훈련 루프와 평가 루프 사용하기"
   ]
  },
  {
   "cell_type": "code",
   "execution_count": 2,
   "id": "7d0b0b4d-80bd-4db4-9046-d949e29f54f8",
   "metadata": {
    "execution": {
     "iopub.execute_input": "2023-01-03T05:38:54.011027Z",
     "iopub.status.busy": "2023-01-03T05:38:54.011027Z",
     "iopub.status.idle": "2023-01-03T05:39:10.444739Z",
     "shell.execute_reply": "2023-01-03T05:39:10.443960Z",
     "shell.execute_reply.started": "2023-01-03T05:38:54.011027Z"
    },
    "tags": []
   },
   "outputs": [
    {
     "name": "stdout",
     "output_type": "stream",
     "text": [
      "Epoch 1/3\n",
      "1563/1563 [==============================] - 5s 3ms/step - loss: 0.2973 - accuracy: 0.9119 - val_loss: 0.1456 - val_accuracy: 0.9565\n",
      "Epoch 2/3\n",
      "1563/1563 [==============================] - 5s 3ms/step - loss: 0.1656 - accuracy: 0.9539 - val_loss: 0.1189 - val_accuracy: 0.9665\n",
      "Epoch 3/3\n",
      "1563/1563 [==============================] - 5s 3ms/step - loss: 0.1376 - accuracy: 0.9627 - val_loss: 0.1154 - val_accuracy: 0.9698\n",
      "313/313 [==============================] - 0s 1ms/step - loss: 0.1097 - accuracy: 0.9733\n"
     ]
    }
   ],
   "source": [
    "# 표준 워크플로: compile(), fit(), evaluate(), predict()\n",
    "\n",
    "#  모델 생성(재사용을 위해 함수로 제작)\n",
    "def get_mnist_model():\n",
    "    inputs = keras.Input(shape=(28 * 28,))\n",
    "    features = layers.Dense(512, activation=\"relu\")(inputs)\n",
    "    features = layers.Dropout(0.5)(features)\n",
    "    outputs = layers.Dense(10, activation=\"softmax\")(features)\n",
    "    model = keras.Model(inputs, outputs)\n",
    "    return model\n",
    "\n",
    "\n",
    "# 데이터를 로드하고 검증을 위해 일부를 떼어놓음\n",
    "(images, labels), (test_images, test_labels) = mnist.load_data()\n",
    "images = images.reshape((60000, 28 * 28)).astype(\"float32\") / 255\n",
    "test_images = test_images.reshape((10000, 28 * 28)).astype(\"float32\") / 255\n",
    "train_images, val_images = images[10000:], images[:10000]\n",
    "train_labels, val_labels = labels[10000:], labels[:10000]\n",
    "\n",
    "model = get_mnist_model()\n",
    "\n",
    "#  옵티마이저, 최소화할 손실 함수, 모니터링할 지표 지정\n",
    "model.compile(\n",
    "    optimizer=\"rmsprop\", loss=\"sparse_categorical_crossentropy\", metrics=[\"accuracy\"]\n",
    ")\n",
    "\n",
    "# fit() 메서드를 사용하여 모델 훈련, 검증데이터를 함께 제공\n",
    "model.fit(\n",
    "    train_images, train_labels, epochs=3, validation_data=(val_images, val_labels)\n",
    ")\n",
    "\n",
    "# evaluate() 메서드를 사용하여 새로운 데이터에 대한 손실과 측정 지표를 계산\n",
    "test_metrics = model.evaluate(test_images, test_labels)\n",
    "\n",
    "# predict() 메서드를 사용하여 새로운 데이터에 대한 분류 확률을 계산\n",
    "predictions = model.predict(test_images)"
   ]
  },
  {
   "cell_type": "markdown",
   "id": "a264bfd8-b4d2-4315-8666-10ae98d1a367",
   "metadata": {},
   "source": [
    "## 사용자 정의 지표 만들기"
   ]
  },
  {
   "cell_type": "code",
   "execution_count": 3,
   "id": "d711b0f2-98e7-44ce-acf9-2a04f3a76b87",
   "metadata": {
    "execution": {
     "iopub.execute_input": "2023-01-03T05:39:10.461212Z",
     "iopub.status.busy": "2023-01-03T05:39:10.461212Z",
     "iopub.status.idle": "2023-01-03T05:39:10.476390Z",
     "shell.execute_reply": "2023-01-03T05:39:10.475387Z",
     "shell.execute_reply.started": "2023-01-03T05:39:10.461212Z"
    },
    "tags": []
   },
   "outputs": [],
   "source": [
    "import tensorflow as tf\n",
    "\n",
    "\n",
    "class RootMeanSquaredError(keras.metrics.Metric):  # metric 클래스 상속\n",
    "    #  생성자에서 상태변수 정의\n",
    "    def __init__(self, name=\"rmse\", **kwargs):\n",
    "        super().__init__(name=name, **kwargs)\n",
    "        self.mse_sum = self.add_weight(name=\"mse_sum\", initializer=\"zeros\")\n",
    "        self.total_samples = self.add_weight(\n",
    "            name=\"total_samples\", initializer=\"zeros\", dtype=\"int32\"\n",
    "        )\n",
    "\n",
    "    #  update_state() 메서드 안에 상태업데이트 로직 구현\n",
    "    def update_state(self, y_true, y_pred, sample_weight=None):\n",
    "        #  MNIST 모델의 예측은 각 클래스 확률이므로 원핫 인코딩\n",
    "        #  y_true : 배치의 타깃, y_pred : 모델의 예측\n",
    "        y_true = tf.one_hot(y_true, depth=tf.shape(y_pred)[1])\n",
    "        mse = tf.reduce_sum(tf.square(y_true - y_pred))\n",
    "        self.mse_sum.assign_add(mse)\n",
    "        num_samples = tf.shape(y_pred)[0]\n",
    "        self.total_samples.assign_add(num_samples)\n",
    "\n",
    "    #  현재 지표값 반환\n",
    "    def result(self):\n",
    "        return tf.sqrt(self.mse_sum / tf.cast(self.total_samples, tf.float32))\n",
    "\n",
    "    #  상태 초기화\n",
    "    def reset_state(self):\n",
    "        self.mse_sum.assign(0.0)"
   ]
  },
  {
   "cell_type": "code",
   "execution_count": 4,
   "id": "92615890-4173-4eea-8375-1f0e58c6ef53",
   "metadata": {
    "execution": {
     "iopub.execute_input": "2023-01-03T05:39:10.477812Z",
     "iopub.status.busy": "2023-01-03T05:39:10.477812Z",
     "iopub.status.idle": "2023-01-03T05:39:27.028898Z",
     "shell.execute_reply": "2023-01-03T05:39:27.028898Z",
     "shell.execute_reply.started": "2023-01-03T05:39:10.477812Z"
    },
    "tags": []
   },
   "outputs": [
    {
     "name": "stdout",
     "output_type": "stream",
     "text": [
      "Epoch 1/3\n",
      "1563/1563 [==============================] - 6s 3ms/step - loss: 0.2940 - accuracy: 0.9128 - rmse: 7.1854 - val_loss: 0.1548 - val_accuracy: 0.9568 - val_rmse: 3.0019\n",
      "Epoch 2/3\n",
      "1563/1563 [==============================] - 5s 3ms/step - loss: 0.1646 - accuracy: 0.9537 - rmse: 4.9599 - val_loss: 0.1317 - val_accuracy: 0.9650 - val_rmse: 2.1362\n",
      "Epoch 3/3\n",
      "1563/1563 [==============================] - 5s 3ms/step - loss: 0.1401 - accuracy: 0.9622 - rmse: 4.0063 - val_loss: 0.1327 - val_accuracy: 0.9661 - val_rmse: 1.7484\n",
      "313/313 [==============================] - 0s 1ms/step - loss: 0.1235 - accuracy: 0.9674 - rmse: 1.7042\n"
     ]
    }
   ],
   "source": [
    "model = get_mnist_model()\n",
    "model.compile(\n",
    "    optimizer=\"rmsprop\",\n",
    "    loss=\"sparse_categorical_crossentropy\",\n",
    "    metrics=[\"accuracy\", RootMeanSquaredError()],\n",
    ")\n",
    "model.fit(\n",
    "    train_images, train_labels, epochs=3, validation_data=(val_images, val_labels)\n",
    ")\n",
    "test_metrics = model.evaluate(test_images, test_labels)"
   ]
  },
  {
   "cell_type": "code",
   "execution_count": 5,
   "id": "8e016ee2-9986-4074-b80d-2cf34781377d",
   "metadata": {
    "execution": {
     "iopub.execute_input": "2023-01-03T06:16:15.067466Z",
     "iopub.status.busy": "2023-01-03T06:16:15.067466Z",
     "iopub.status.idle": "2023-01-03T06:17:05.897446Z",
     "shell.execute_reply": "2023-01-03T06:17:05.897446Z",
     "shell.execute_reply.started": "2023-01-03T06:16:15.067466Z"
    }
   },
   "outputs": [
    {
     "name": "stdout",
     "output_type": "stream",
     "text": [
      "Epoch 1/10\n",
      "1563/1563 [==============================] - 5s 3ms/step - loss: 0.2946 - accuracy: 0.9112 - val_loss: 0.1562 - val_accuracy: 0.9532\n",
      "Epoch 2/10\n",
      "1563/1563 [==============================] - 5s 3ms/step - loss: 0.1624 - accuracy: 0.9544 - val_loss: 0.1230 - val_accuracy: 0.9673\n",
      "Epoch 3/10\n",
      "1563/1563 [==============================] - 5s 3ms/step - loss: 0.1390 - accuracy: 0.9636 - val_loss: 0.1149 - val_accuracy: 0.9723\n",
      "Epoch 4/10\n",
      "1563/1563 [==============================] - 5s 3ms/step - loss: 0.1247 - accuracy: 0.9674 - val_loss: 0.1117 - val_accuracy: 0.9717\n",
      "Epoch 5/10\n",
      "1563/1563 [==============================] - 5s 3ms/step - loss: 0.1154 - accuracy: 0.9714 - val_loss: 0.1193 - val_accuracy: 0.9729\n",
      "Epoch 6/10\n",
      "1563/1563 [==============================] - 5s 3ms/step - loss: 0.1101 - accuracy: 0.9733 - val_loss: 0.1109 - val_accuracy: 0.9759\n",
      "Epoch 7/10\n",
      "1563/1563 [==============================] - 5s 3ms/step - loss: 0.1070 - accuracy: 0.9733 - val_loss: 0.1145 - val_accuracy: 0.9770\n",
      "Epoch 8/10\n",
      "1563/1563 [==============================] - 5s 3ms/step - loss: 0.1010 - accuracy: 0.9766 - val_loss: 0.1122 - val_accuracy: 0.9790\n",
      "Epoch 9/10\n",
      "1563/1563 [==============================] - 5s 3ms/step - loss: 0.0983 - accuracy: 0.9776 - val_loss: 0.1108 - val_accuracy: 0.9766\n",
      "Epoch 10/10\n",
      "1563/1563 [==============================] - 5s 3ms/step - loss: 0.0948 - accuracy: 0.9779 - val_loss: 0.1145 - val_accuracy: 0.9787\n"
     ]
    },
    {
     "data": {
      "text/plain": [
       "<keras.callbacks.History at 0x26a90f59ee0>"
      ]
     },
     "execution_count": 5,
     "metadata": {},
     "output_type": "execute_result"
    }
   ],
   "source": [
    "callbacks_list = [  # 콜백의 리스트를 모델로 전달\n",
    "    keras.callbacks.EarlyStopping(  # 성능 향상이 멈추면 훈련 중지\n",
    "        monitor=\"val_accuracy\",  # 검증 정확도 모니터링\n",
    "        patience=2,  # 두번의 에포크 동안 정확도 미향상시 훈련 중지\n",
    "    ),\n",
    "    keras.callbacks.ModelCheckpoint(  # 매 에포크 끝에 현재 가중치 저장\n",
    "        filepath=\"checkpoint_path.keras\",\n",
    "        monitor=\"val_loss\",\n",
    "        save_best_only=True,\n",
    "    ),\n",
    "]\n",
    "model = get_mnist_model()\n",
    "model.compile(\n",
    "    optimizer=\"rmsprop\", loss=\"sparse_categorical_crossentropy\", metrics=[\"accuracy\"]\n",
    ")\n",
    "model.fit(\n",
    "    train_images,\n",
    "    train_labels,\n",
    "    epochs=10,\n",
    "    callbacks=callbacks_list,\n",
    "    validation_data=(val_images, val_labels),\n",
    ")\n",
    "# model = keras.models.load_model('checkpoint_path.keras')"
   ]
  }
 ],
 "metadata": {
  "kernelspec": {
   "display_name": "Python 3 (ipykernel)",
   "language": "python",
   "name": "python3"
  },
  "language_info": {
   "codemirror_mode": {
    "name": "ipython",
    "version": 3
   },
   "file_extension": ".py",
   "mimetype": "text/x-python",
   "name": "python",
   "nbconvert_exporter": "python",
   "pygments_lexer": "ipython3",
   "version": "3.9.7"
  },
  "widgets": {
   "application/vnd.jupyter.widget-state+json": {
    "state": {},
    "version_major": 2,
    "version_minor": 0
   }
  }
 },
 "nbformat": 4,
 "nbformat_minor": 5
}
