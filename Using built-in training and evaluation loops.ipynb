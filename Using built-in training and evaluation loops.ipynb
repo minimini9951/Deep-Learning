{
 "cells": [
  {
   "cell_type": "code",
   "execution_count": 4,
   "id": "3869db5c-4d56-4e7e-a6b8-84427b8c91bc",
   "metadata": {
    "execution": {
     "iopub.execute_input": "2022-12-28T01:45:19.922792Z",
     "iopub.status.busy": "2022-12-28T01:45:19.922792Z",
     "iopub.status.idle": "2022-12-28T01:45:19.938519Z",
     "shell.execute_reply": "2022-12-28T01:45:19.938015Z",
     "shell.execute_reply.started": "2022-12-28T01:45:19.922792Z"
    },
    "tags": []
   },
   "outputs": [],
   "source": [
    "import numpy as np\n",
    "from tensorflow import keras\n",
    "from tensorflow.keras import layers\n",
    "from tensorflow.keras.datasets import mnist\n",
    "\n",
    "%config Completer.use_jedi = False  # 자동완성 속도 증가"
   ]
  },
  {
   "cell_type": "markdown",
   "id": "e0aba09a-3294-472c-b656-93828856f488",
   "metadata": {},
   "source": [
    "# 내장된 훈련 루프와 평가 루프 사용하기"
   ]
  },
  {
   "cell_type": "code",
   "execution_count": 3,
   "id": "7d0b0b4d-80bd-4db4-9046-d949e29f54f8",
   "metadata": {
    "execution": {
     "iopub.execute_input": "2022-12-28T01:45:04.059583Z",
     "iopub.status.busy": "2022-12-28T01:45:04.058597Z",
     "iopub.status.idle": "2022-12-28T01:45:19.897478Z",
     "shell.execute_reply": "2022-12-28T01:45:19.897031Z",
     "shell.execute_reply.started": "2022-12-28T01:45:04.059583Z"
    },
    "tags": []
   },
   "outputs": [
    {
     "name": "stdout",
     "output_type": "stream",
     "text": [
      "Epoch 1/3\n",
      "1563/1563 [==============================] - 5s 3ms/step - loss: 0.2906 - accuracy: 0.9127 - val_loss: 0.1423 - val_accuracy: 0.9595\n",
      "Epoch 2/3\n",
      "1563/1563 [==============================] - 5s 3ms/step - loss: 0.1625 - accuracy: 0.9546 - val_loss: 0.1199 - val_accuracy: 0.9682\n",
      "Epoch 3/3\n",
      "1563/1563 [==============================] - 5s 3ms/step - loss: 0.1393 - accuracy: 0.9626 - val_loss: 0.1162 - val_accuracy: 0.9703\n",
      "313/313 [==============================] - 0s 1ms/step - loss: 0.1036 - accuracy: 0.9730\n"
     ]
    }
   ],
   "source": [
    "# 표준 워크플로: compile(), fit(), evaluate(), predict()\n",
    "\n",
    "#  모델 생성(재사용을 위해 함수로 제작)\n",
    "def get_mnist_model():\n",
    "    inputs = keras.Input(shape=(28 * 28,))\n",
    "    features = layers.Dense(512, activation=\"relu\")(inputs)\n",
    "    features = layers.Dropout(0.5)(features)\n",
    "    outputs = layers.Dense(10, activation=\"softmax\")(features)\n",
    "    model = keras.Model(inputs, outputs)\n",
    "    return model\n",
    "\n",
    "\n",
    "# 데이터를 로드하고 검증을 위해 일부를 떼어놓음\n",
    "(images, labels), (test_images, test_labels) = mnist.load_data()\n",
    "images = images.reshape((60000, 28 * 28)).astype(\"float32\") / 255\n",
    "test_images = test_images.reshape((10000, 28 * 28)).astype(\"float32\") / 255\n",
    "train_images, val_images = images[10000:], images[:10000]\n",
    "train_labels, val_labels = labels[10000:], labels[:10000]\n",
    "\n",
    "model = get_mnist_model()\n",
    "\n",
    "#  옵티마이저, 최소화할 손실 함수, 모니터링할 지표 지정\n",
    "model.compile(\n",
    "    optimizer=\"rmsprop\", loss=\"sparse_categorical_crossentropy\", metrics=[\"accuracy\"]\n",
    ")\n",
    "\n",
    "# fit() 메서드를 사용하여 모델 훈련, 검증데이터를 함께 제공\n",
    "model.fit(\n",
    "    train_images, train_labels, epochs=3, validation_data=(val_images, val_labels)\n",
    ")\n",
    "\n",
    "# evaluate() 메서드를 사용하여 새로운 데이터에 대한 손실과 측정 지표를 계산\n",
    "test_metrics = model.evaluate(test_images, test_labels)\n",
    "\n",
    "# predict() 메서드를 사용하여 새로운 데이터에 대한 분류 확률을 계산\n",
    "predictions = model.predict(test_images)"
   ]
  },
  {
   "cell_type": "markdown",
   "id": "a264bfd8-b4d2-4315-8666-10ae98d1a367",
   "metadata": {},
   "source": [
    "## 사용자 정의 지표 만들기"
   ]
  },
  {
   "cell_type": "code",
   "execution_count": null,
   "id": "d711b0f2-98e7-44ce-acf9-2a04f3a76b87",
   "metadata": {},
   "outputs": [],
   "source": [
    "import tensorflow as tf\n",
    "\n",
    "\n",
    "class RootMeanSquaredError(keras.metrics.Metric):  # metric 클래스 상속\n",
    "    #  생성자에서 상태변수 정의\n",
    "    def __init__(self, name=\"rmse\", **kwargs):\n",
    "        super().__init__(name=name, **kwargs)\n",
    "        self.mse_sum = self.add_weight(name=\"mse_sum\", initializer=\"zeros\")\n",
    "        self.total_samples = self.add_weight(\n",
    "            name=\"total_samples\", initializer=\"zeros\", dtype=\"int32\"\n",
    "        )\n",
    "\n",
    "    #  update_state() 메서드 안에 상태업데이트 로직 구현\n",
    "    def update_state(self, y_true, y_pred, sample_weight=None):\n",
    "        #  MNIST 모델의 예측은 각 클래스 확률이므로 원핫 인코딩\n",
    "        #  y_true : 배치의 타깃, y_pred : 모델의 예측\n",
    "        y_true = tf.one_hot(y_true, depth=tf.shape(y_pred)[1])\n",
    "        mse = tf.reduce_sum(tf.square(y_true - y_pred))\n",
    "        self.mse_sum.assign_add(mse)\n",
    "        num_samples = tf.shape(y_pred)[0]\n",
    "        self.total_samples.assign_add(num_samples)\n",
    "\n",
    "    #  현재 지표값 반환\n",
    "    def result(self):\n",
    "        return tf.sqrt(self.mse_sum / tf.cast(self.total_samples, tf.float32))\n",
    "\n",
    "    #  상태 초기화\n",
    "    def reset_state(self):\n",
    "        self.mse_sum.assign(0.)"
   ]
  }
 ],
 "metadata": {
  "kernelspec": {
   "display_name": "Python 3 (ipykernel)",
   "language": "python",
   "name": "python3"
  },
  "language_info": {
   "codemirror_mode": {
    "name": "ipython",
    "version": 3
   },
   "file_extension": ".py",
   "mimetype": "text/x-python",
   "name": "python",
   "nbconvert_exporter": "python",
   "pygments_lexer": "ipython3",
   "version": "3.9.7"
  },
  "widgets": {
   "application/vnd.jupyter.widget-state+json": {
    "state": {},
    "version_major": 2,
    "version_minor": 0
   }
  }
 },
 "nbformat": 4,
 "nbformat_minor": 5
}
