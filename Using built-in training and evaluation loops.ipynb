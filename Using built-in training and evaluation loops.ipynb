{
 "cells": [
  {
   "cell_type": "code",
   "execution_count": 1,
   "id": "3869db5c-4d56-4e7e-a6b8-84427b8c91bc",
   "metadata": {
    "execution": {
     "iopub.execute_input": "2022-12-28T00:22:53.935932Z",
     "iopub.status.busy": "2022-12-28T00:22:53.934571Z",
     "iopub.status.idle": "2022-12-28T00:22:53.954959Z",
     "shell.execute_reply": "2022-12-28T00:22:53.954117Z",
     "shell.execute_reply.started": "2022-12-28T00:22:53.935932Z"
    },
    "tags": []
   },
   "outputs": [],
   "source": [
    "import numpy as np\n",
    "from tensorflow import keras\n",
    "from tensorflow.keras import layers\n",
    "\n",
    "from tensorflow.keras.datasets import mnist\n",
    "\n",
    "%config Completer.use_jedi = False  # 자동완성 속도 증가"
   ]
  },
  {
   "cell_type": "code",
   "execution_count": null,
   "id": "7d0b0b4d-80bd-4db4-9046-d949e29f54f8",
   "metadata": {},
   "outputs": [],
   "source": [
    "# 표준 워크플로: compile(), fit(), evaluate(), predict()\n",
    "\n",
    "def get_mnist_model():\n",
    "    "
   ]
  }
 ],
 "metadata": {
  "kernelspec": {
   "display_name": "Python 3 (ipykernel)",
   "language": "python",
   "name": "python3"
  },
  "language_info": {
   "codemirror_mode": {
    "name": "ipython",
    "version": 3
   },
   "file_extension": ".py",
   "mimetype": "text/x-python",
   "name": "python",
   "nbconvert_exporter": "python",
   "pygments_lexer": "ipython3",
   "version": "3.9.7"
  },
  "widgets": {
   "application/vnd.jupyter.widget-state+json": {
    "state": {},
    "version_major": 2,
    "version_minor": 0
   }
  }
 },
 "nbformat": 4,
 "nbformat_minor": 5
}
