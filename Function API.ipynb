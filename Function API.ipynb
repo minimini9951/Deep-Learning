{
 "cells": [
  {
   "cell_type": "code",
   "execution_count": 1,
   "id": "ea600f1c-8b18-4957-9a54-a5964aa91d36",
   "metadata": {
    "execution": {
     "iopub.execute_input": "2022-12-27T06:50:24.570960Z",
     "iopub.status.busy": "2022-12-27T06:50:24.570960Z",
     "iopub.status.idle": "2022-12-27T06:50:32.995475Z",
     "shell.execute_reply": "2022-12-27T06:50:32.994528Z",
     "shell.execute_reply.started": "2022-12-27T06:50:24.570960Z"
    },
    "tags": []
   },
   "outputs": [],
   "source": [
    "import numpy as np\n",
    "from tensorflow import keras\n",
    "from tensorflow.keras import layers\n",
    "\n",
    "%config Completer.use_jedi = False  # 자동완성 속도 증가"
   ]
  },
  {
   "cell_type": "code",
   "execution_count": 21,
   "id": "98d032fb-6255-407f-84e8-c71d931dc142",
   "metadata": {
    "execution": {
     "iopub.execute_input": "2022-12-27T06:49:13.628777Z",
     "iopub.status.busy": "2022-12-27T06:49:13.628777Z",
     "iopub.status.idle": "2022-12-27T06:49:13.664255Z",
     "shell.execute_reply": "2022-12-27T06:49:13.664255Z",
     "shell.execute_reply.started": "2022-12-27T06:49:13.628777Z"
    },
    "tags": []
   },
   "outputs": [],
   "source": [
    "inputs = keras.Input(shape=(3,), name=\"my_input\")\n",
    "features = layers.Dense(64, activation=\"relu\")(inputs)\n",
    "outputs = layers.Dense(10, activation=\"softmax\")(features)\n",
    "model = keras.Model(inputs=inputs, outputs=outputs)"
   ]
  },
  {
   "cell_type": "code",
   "execution_count": 22,
   "id": "20896a43-99d8-4649-b358-b5b33f2c9aeb",
   "metadata": {
    "execution": {
     "iopub.execute_input": "2022-12-27T06:49:13.812222Z",
     "iopub.status.busy": "2022-12-27T06:49:13.812222Z",
     "iopub.status.idle": "2022-12-27T06:49:13.822417Z",
     "shell.execute_reply": "2022-12-27T06:49:13.821402Z",
     "shell.execute_reply.started": "2022-12-27T06:49:13.812222Z"
    },
    "tags": []
   },
   "outputs": [
    {
     "data": {
      "text/plain": [
       "TensorShape([None, 3])"
      ]
     },
     "execution_count": 22,
     "metadata": {},
     "output_type": "execute_result"
    }
   ],
   "source": [
    "inputs.shape"
   ]
  },
  {
   "cell_type": "code",
   "execution_count": 23,
   "id": "3ed1de49-41d0-4bc9-8294-918115e4d40e",
   "metadata": {
    "execution": {
     "iopub.execute_input": "2022-12-27T06:49:13.989948Z",
     "iopub.status.busy": "2022-12-27T06:49:13.989948Z",
     "iopub.status.idle": "2022-12-27T06:49:14.007090Z",
     "shell.execute_reply": "2022-12-27T06:49:14.006062Z",
     "shell.execute_reply.started": "2022-12-27T06:49:13.989948Z"
    },
    "tags": []
   },
   "outputs": [
    {
     "data": {
      "text/plain": [
       "tf.float32"
      ]
     },
     "execution_count": 23,
     "metadata": {},
     "output_type": "execute_result"
    }
   ],
   "source": [
    "inputs.dtype"
   ]
  },
  {
   "cell_type": "code",
   "execution_count": 24,
   "id": "ae1f2adf-f999-4ccd-9834-abc9f3c701d4",
   "metadata": {
    "execution": {
     "iopub.execute_input": "2022-12-27T06:49:14.160922Z",
     "iopub.status.busy": "2022-12-27T06:49:14.158354Z",
     "iopub.status.idle": "2022-12-27T06:49:14.174922Z",
     "shell.execute_reply": "2022-12-27T06:49:14.173907Z",
     "shell.execute_reply.started": "2022-12-27T06:49:14.160922Z"
    },
    "tags": []
   },
   "outputs": [
    {
     "data": {
      "text/plain": [
       "TensorShape([None, 64])"
      ]
     },
     "execution_count": 24,
     "metadata": {},
     "output_type": "execute_result"
    }
   ],
   "source": [
    "features.shape"
   ]
  },
  {
   "cell_type": "code",
   "execution_count": 25,
   "id": "ef88fef9-a3f5-4690-8f5a-dfbc79ce5ade",
   "metadata": {
    "execution": {
     "iopub.execute_input": "2022-12-27T06:49:14.356388Z",
     "iopub.status.busy": "2022-12-27T06:49:14.356388Z",
     "iopub.status.idle": "2022-12-27T06:49:14.380447Z",
     "shell.execute_reply": "2022-12-27T06:49:14.380447Z",
     "shell.execute_reply.started": "2022-12-27T06:49:14.356388Z"
    },
    "tags": []
   },
   "outputs": [
    {
     "name": "stdout",
     "output_type": "stream",
     "text": [
      "Model: \"model_4\"\n",
      "_________________________________________________________________\n",
      " Layer (type)                Output Shape              Param #   \n",
      "=================================================================\n",
      " my_input (InputLayer)       [(None, 3)]               0         \n",
      "                                                                 \n",
      " dense_6 (Dense)             (None, 64)                256       \n",
      "                                                                 \n",
      " dense_7 (Dense)             (None, 10)                650       \n",
      "                                                                 \n",
      "=================================================================\n",
      "Total params: 906\n",
      "Trainable params: 906\n",
      "Non-trainable params: 0\n",
      "_________________________________________________________________\n"
     ]
    }
   ],
   "source": [
    "model.summary()"
   ]
  },
  {
   "cell_type": "markdown",
   "id": "97a6dfb5-77d2-4eb4-b8bd-1d90fbb7b0f5",
   "metadata": {},
   "source": [
    "### 다중 입력, 다중 출력 모델"
   ]
  },
  {
   "cell_type": "code",
   "execution_count": 26,
   "id": "7b4d96a7-c7b7-434f-991f-e216ec78052a",
   "metadata": {
    "execution": {
     "iopub.execute_input": "2022-12-27T06:49:14.695008Z",
     "iopub.status.busy": "2022-12-27T06:49:14.695008Z",
     "iopub.status.idle": "2022-12-27T06:49:14.760968Z",
     "shell.execute_reply": "2022-12-27T06:49:14.760128Z",
     "shell.execute_reply.started": "2022-12-27T06:49:14.695008Z"
    },
    "tags": []
   },
   "outputs": [],
   "source": [
    "# 다중 입력, 다중 출력 함수형 모델\n",
    "\n",
    "vocabulary_size = 10000\n",
    "num_tags = 100\n",
    "num_departments = 4\n",
    "\n",
    "# 모델 입력 정의\n",
    "title = keras.Input(shape=(vocabulary_size,), name=\"title\")\n",
    "text_body = keras.Input(shape=(vocabulary_size,), name=\"text_body\")\n",
    "tags = keras.Input(shape=(num_tags,), name=\"tags\")\n",
    "\n",
    "# 입력 특성을 하나의 텐서 features로 연결\n",
    "features = layers.Concatenate()([title, text_body, tags])\n",
    "\n",
    "# 중간층을 적용하여 입력 특성을 더 풍부한 표현으로 재결합\n",
    "features = layers.Dense(64, activation=\"relu\")(features)\n",
    "\n",
    "# 모델 출력 정의\n",
    "priority = layers.Dense(1, activation=\"sigmoid\", name=\"priority\")(features)\n",
    "department = layers.Dense(num_departments, activation=\"softmax\", name=\"department\")(\n",
    "    features\n",
    ")\n",
    "# 입력과 출력을 지정하여 모델 생성\n",
    "model = keras.Model(inputs=[title, text_body, tags], outputs=[priority, department])"
   ]
  },
  {
   "cell_type": "markdown",
   "id": "f660b059-bfdd-4912-a5aa-24d966526871",
   "metadata": {},
   "source": [
    "### 다중 입력, 다중 출력 모델 훈련"
   ]
  },
  {
   "cell_type": "code",
   "execution_count": 27,
   "id": "0634637d-23ba-44c1-9e4d-03533267b626",
   "metadata": {
    "execution": {
     "iopub.execute_input": "2022-12-27T06:49:15.629177Z",
     "iopub.status.busy": "2022-12-27T06:49:15.629177Z",
     "iopub.status.idle": "2022-12-27T06:49:21.293376Z",
     "shell.execute_reply": "2022-12-27T06:49:21.293376Z",
     "shell.execute_reply.started": "2022-12-27T06:49:15.629177Z"
    },
    "tags": []
   },
   "outputs": [
    {
     "name": "stdout",
     "output_type": "stream",
     "text": [
      "40/40 [==============================] - 2s 38ms/step - loss: 41.0374 - priority_loss: 0.3326 - department_loss: 40.7047 - priority_mean_absolute_error: 0.5047 - department_accuracy: 0.2281\n",
      "40/40 [==============================] - 2s 39ms/step - loss: 34.4445 - priority_loss: 0.3389 - department_loss: 34.1056 - priority_mean_absolute_error: 0.5109 - department_accuracy: 0.2648\n"
     ]
    }
   ],
   "source": [
    "#  입력과 타깃 배열 리스트를 전달하여 모델 훈련하기\n",
    "\n",
    "num_samples = 1280\n",
    "\n",
    "# 더미 입력 데이터 생성\n",
    "title_data = np.random.randint(0, 2, size=(num_samples, vocabulary_size))\n",
    "text_body_data = np.random.randint(0, 2, size=(num_samples, vocabulary_size))\n",
    "tags_data = np.random.randint(0, 2, size=(num_samples, num_tags))\n",
    "\n",
    "# 더미 타겟 데이터\n",
    "priority_data = np.random.random(size=(num_samples, 1))\n",
    "department_data = np.random.randint(0, 2, size=(num_samples, num_departments))\n",
    "\n",
    "model.compile(\n",
    "    optimizer=\"rmsprop\",\n",
    "    loss=[\"mean_squared_error\", \"categorical_crossentropy\"],\n",
    "    metrics=[[\"mean_absolute_error\"], [\"accuracy\"]],\n",
    ")\n",
    "\n",
    "model.fit(\n",
    "    [title_data, text_body_data, tags_data], [priority_data, department_data], epochs=1\n",
    ")\n",
    "\n",
    "model.evaluate(\n",
    "    [title_data, text_body_data, tags_data], [priority_data, department_data]\n",
    ")\n",
    "\n",
    "priority_preds, department_preds = model.predict(\n",
    "    [title_data, text_body_data, tags_data]\n",
    ")"
   ]
  },
  {
   "cell_type": "code",
   "execution_count": 28,
   "id": "880acfa0-5163-4b6c-9639-06278558ffbb",
   "metadata": {
    "execution": {
     "iopub.execute_input": "2022-12-27T06:49:21.309681Z",
     "iopub.status.busy": "2022-12-27T06:49:21.309681Z",
     "iopub.status.idle": "2022-12-27T06:49:25.441071Z",
     "shell.execute_reply": "2022-12-27T06:49:25.441071Z",
     "shell.execute_reply.started": "2022-12-27T06:49:21.309681Z"
    },
    "tags": []
   },
   "outputs": [
    {
     "name": "stdout",
     "output_type": "stream",
     "text": [
      "40/40 [==============================] - 2s 39ms/step - loss: 46.3034 - priority_loss: 0.3389 - department_loss: 45.9644 - priority_mean_absolute_error: 0.5109 - department_accuracy: 0.2766\n",
      "40/40 [==============================] - 1s 25ms/step - loss: 40.7219 - priority_loss: 0.3389 - department_loss: 40.3830 - priority_mean_absolute_error: 0.5109 - department_accuracy: 0.2648\n"
     ]
    }
   ],
   "source": [
    "#  입력과 타깃 배열을 딕셔너리로 전달하여 모델 훈련\n",
    "\n",
    "model.compile(\n",
    "    optimizer=\"rmsprop\",\n",
    "    loss={\"priority\": \"mean_squared_error\", \"department\": \"categorical_crossentropy\"},\n",
    "    metrics={\"priority\": [\"mean_absolute_error\"], \"department\": [\"accuracy\"]},\n",
    ")\n",
    "model.fit(\n",
    "    {\"title\": title_data, \"text_body\": text_body_data, \"tags\": tags_data},\n",
    "    {\"priority\": priority_data, \"department\": department_data},\n",
    "    epochs=1,\n",
    ")\n",
    "model.evaluate(\n",
    "    {\"title\": title_data, \"text_body\": text_body_data, \"tags\": tags_data},\n",
    "    {\"priority\": priority_data, \"department\": department_data},\n",
    ")\n",
    "priority_preds, department_preds = model.predict(\n",
    "    {\"title\": title_data, \"text_body\": text_body_data, \"tags\": tags_data}\n",
    ")"
   ]
  },
  {
   "cell_type": "code",
   "execution_count": 29,
   "id": "9745a749-fc81-4bcd-85cf-9d0b267f80cb",
   "metadata": {
    "execution": {
     "iopub.execute_input": "2022-12-27T06:49:25.441071Z",
     "iopub.status.busy": "2022-12-27T06:49:25.441071Z",
     "iopub.status.idle": "2022-12-27T06:49:25.694351Z",
     "shell.execute_reply": "2022-12-27T06:49:25.694351Z",
     "shell.execute_reply.started": "2022-12-27T06:49:25.441071Z"
    },
    "tags": []
   },
   "outputs": [
    {
     "data": {
      "image/png": "[encoded data removed]",
      "text/plain": [
       "<IPython.core.display.Image object>"
      ]
     },
     "execution_count": 29,
     "metadata": {},
     "output_type": "execute_result"
    }
   ],
   "source": [
    "keras.utils.plot_model(model, \"ticket_classifier.png\")"
   ]
  },
  {
   "cell_type": "code",
   "execution_count": 30,
   "id": "288d7ff5-5fe0-4842-af83-1623de799203",
   "metadata": {
    "execution": {
     "iopub.execute_input": "2022-12-27T06:49:25.697447Z",
     "iopub.status.busy": "2022-12-27T06:49:25.696867Z",
     "iopub.status.idle": "2022-12-27T06:49:25.909046Z",
     "shell.execute_reply": "2022-12-27T06:49:25.909046Z",
     "shell.execute_reply.started": "2022-12-27T06:49:25.697447Z"
    },
    "tags": []
   },
   "outputs": [
    {
     "data": {
      "image/png": "[encoded data removed]",
      "text/plain": [
       "<IPython.core.display.Image object>"
      ]
     },
     "execution_count": 30,
     "metadata": {},
     "output_type": "execute_result"
    }
   ],
   "source": [
    "keras.utils.plot_model(model, \"ticket_classifier_with_shape_info.png\", show_shapes=True)"
   ]
  },
  {
   "cell_type": "markdown",
   "id": "bd3b7d3d-9500-46d5-bf18-58b1912985bd",
   "metadata": {},
   "source": [
    "### 함수형 모델에 있는 층의 입력과 출력을 출력"
   ]
  },
  {
   "cell_type": "code",
   "execution_count": 31,
   "id": "eea36581-2df5-417d-9ed0-fa4f9fb0a9a6",
   "metadata": {
    "execution": {
     "iopub.execute_input": "2022-12-27T06:49:25.909046Z",
     "iopub.status.busy": "2022-12-27T06:49:25.909046Z",
     "iopub.status.idle": "2022-12-27T06:49:25.925470Z",
     "shell.execute_reply": "2022-12-27T06:49:25.924256Z",
     "shell.execute_reply.started": "2022-12-27T06:49:25.909046Z"
    },
    "tags": []
   },
   "outputs": [
    {
     "data": {
      "text/plain": [
       "[<keras.engine.input_layer.InputLayer at 0x159c860a820>,\n",
       " <keras.engine.input_layer.InputLayer at 0x159c860a7c0>,\n",
       " <keras.engine.input_layer.InputLayer at 0x159c860a610>,\n",
       " <keras.layers.merge.Concatenate at 0x159c8605eb0>,\n",
       " <keras.layers.core.dense.Dense at 0x159c8605310>,\n",
       " <keras.layers.core.dense.Dense at 0x159c8612610>,\n",
       " <keras.layers.core.dense.Dense at 0x159ac619a30>]"
      ]
     },
     "execution_count": 31,
     "metadata": {},
     "output_type": "execute_result"
    }
   ],
   "source": [
    "model.layers"
   ]
  },
  {
   "cell_type": "code",
   "execution_count": 32,
   "id": "12d7454d-15dc-4361-a343-1e638b7ec7c9",
   "metadata": {
    "execution": {
     "iopub.execute_input": "2022-12-27T06:49:25.925470Z",
     "iopub.status.busy": "2022-12-27T06:49:25.925470Z",
     "iopub.status.idle": "2022-12-27T06:49:25.940131Z",
     "shell.execute_reply": "2022-12-27T06:49:25.940131Z",
     "shell.execute_reply.started": "2022-12-27T06:49:25.925470Z"
    },
    "tags": []
   },
   "outputs": [
    {
     "data": {
      "text/plain": [
       "[<KerasTensor: shape=(None, 10000) dtype=float32 (created by layer 'title')>,\n",
       " <KerasTensor: shape=(None, 10000) dtype=float32 (created by layer 'text_body')>,\n",
       " <KerasTensor: shape=(None, 100) dtype=float32 (created by layer 'tags')>]"
      ]
     },
     "execution_count": 32,
     "metadata": {},
     "output_type": "execute_result"
    }
   ],
   "source": [
    "model.layers[3].input"
   ]
  },
  {
   "cell_type": "code",
   "execution_count": 33,
   "id": "d0631d18-8280-4c89-8e1c-5a30c6fc25cb",
   "metadata": {
    "execution": {
     "iopub.execute_input": "2022-12-27T06:49:25.940131Z",
     "iopub.status.busy": "2022-12-27T06:49:25.940131Z",
     "iopub.status.idle": "2022-12-27T06:49:25.956141Z",
     "shell.execute_reply": "2022-12-27T06:49:25.956141Z",
     "shell.execute_reply.started": "2022-12-27T06:49:25.940131Z"
    },
    "tags": []
   },
   "outputs": [
    {
     "data": {
      "text/plain": [
       "<KerasTensor: shape=(None, 20100) dtype=float32 (created by layer 'concatenate_2')>"
      ]
     },
     "execution_count": 33,
     "metadata": {},
     "output_type": "execute_result"
    }
   ],
   "source": [
    "model.layers[3].output"
   ]
  },
  {
   "cell_type": "code",
   "execution_count": 34,
   "id": "98fe48e4-7ae1-46ee-9569-7d2fad8caa65",
   "metadata": {
    "execution": {
     "iopub.execute_input": "2022-12-27T06:49:25.956141Z",
     "iopub.status.busy": "2022-12-27T06:49:25.956141Z",
     "iopub.status.idle": "2022-12-27T06:49:25.981423Z",
     "shell.execute_reply": "2022-12-27T06:49:25.981423Z",
     "shell.execute_reply.started": "2022-12-27T06:49:25.956141Z"
    },
    "tags": []
   },
   "outputs": [],
   "source": [
    "#  중간층의 출력을 재사용해서 새로운 모델 생성\n",
    "features = model.layers[4].output\n",
    "difficulty = layers.Dense(3, activation=\"softmax\", name=\"difficulty\")(features)\n",
    "new_model = keras.Model(\n",
    "    inputs=[title, text_body, tags], outputs=[priority, department, difficulty]\n",
    ")"
   ]
  },
  {
   "cell_type": "code",
   "execution_count": 35,
   "id": "34f800dd-f9e9-46bd-8e72-a2261de756f6",
   "metadata": {
    "execution": {
     "iopub.execute_input": "2022-12-27T06:49:25.981423Z",
     "iopub.status.busy": "2022-12-27T06:49:25.981423Z",
     "iopub.status.idle": "2022-12-27T06:49:26.179021Z",
     "shell.execute_reply": "2022-12-27T06:49:26.179021Z",
     "shell.execute_reply.started": "2022-12-27T06:49:25.981423Z"
    },
    "tags": []
   },
   "outputs": [
    {
     "data": {
      "image/png": "[encoded data removed]",
      "text/plain": [
       "<IPython.core.display.Image object>"
      ]
     },
     "execution_count": 35,
     "metadata": {},
     "output_type": "execute_result"
    }
   ],
   "source": [
    "keras.utils.plot_model(new_model, \"updated_ticket_classifier.png\", show_shapes=True)"
   ]
  },
  {
   "cell_type": "markdown",
   "id": "2167b9b4-2fd7-442f-a293-8f96da42bfaa",
   "metadata": {},
   "source": [
    "### Model SubClassing\n",
    "- __init__() 메서드에서 모델이 사용할 층 정의\n",
    "- call() 메서드에서 앞서 만든 층을 이용하여 모델의 정방향 패스를 정의\n",
    "- 서브클래스의 객체를 만들고 데이터와 함께 호출하여 가중치 제작"
   ]
  },
  {
   "cell_type": "code",
   "execution_count": 36,
   "id": "e0f4eb76-64ea-4c47-a6e9-1efaffebb194",
   "metadata": {
    "execution": {
     "iopub.execute_input": "2022-12-27T06:49:26.180904Z",
     "iopub.status.busy": "2022-12-27T06:49:26.180904Z",
     "iopub.status.idle": "2022-12-27T06:49:26.194228Z",
     "shell.execute_reply": "2022-12-27T06:49:26.194228Z",
     "shell.execute_reply.started": "2022-12-27T06:49:26.180904Z"
    },
    "tags": []
   },
   "outputs": [],
   "source": [
    "# 간단한 서브클래싱 모델\n",
    "class CustomerTicketModel(keras.Model):\n",
    "    def __init__(self, num_departments):\n",
    "        super().__init__()  # 부모생성자 호출(필수)\n",
    "        self.concat_layer = layers.Concatenate()  # 생성자에서 층 정의\n",
    "        self.mixing_layer = layers.Dense(64, activation=\"relu\")\n",
    "        self.priority_scorer = layers.Dense(1, activation=\"sigmoid\")\n",
    "        self.department_classifier = layers.Dense(num_departments, activation=\"softmax\")\n",
    "\n",
    "    def call(self, inputs):  # call() 메서드에서 정방향 패스를 정의\n",
    "        title = inputs[\"title\"]\n",
    "        text_body = inputs[\"text_body\"]\n",
    "        tags = inputs[\"tags\"]\n",
    "        features = self.concat_layer([title, text_body, tags])\n",
    "        features = self.mixing_layer(features)\n",
    "        priority = self.priority_scorer(features)\n",
    "        department = self.department_classifier(features)\n",
    "        return priority, department"
   ]
  },
  {
   "cell_type": "code",
   "execution_count": 37,
   "id": "206bba2a-23c1-4983-bc57-7519ea929b1c",
   "metadata": {
    "execution": {
     "iopub.execute_input": "2022-12-27T06:49:26.195233Z",
     "iopub.status.busy": "2022-12-27T06:49:26.195233Z",
     "iopub.status.idle": "2022-12-27T06:49:26.257511Z",
     "shell.execute_reply": "2022-12-27T06:49:26.257511Z",
     "shell.execute_reply.started": "2022-12-27T06:49:26.195233Z"
    },
    "tags": []
   },
   "outputs": [],
   "source": [
    "model = CustomerTicketModel(num_departments=4)\n",
    "priority, department = model(\n",
    "    {\"title\": title_data, \"text_body\": text_body_data, \"tags\": tags_data}\n",
    ")"
   ]
  },
  {
   "cell_type": "code",
   "execution_count": 38,
   "id": "14d73daa-6322-4992-8199-271bf44e7bfd",
   "metadata": {
    "execution": {
     "iopub.execute_input": "2022-12-27T06:49:26.273234Z",
     "iopub.status.busy": "2022-12-27T06:49:26.273234Z",
     "iopub.status.idle": "2022-12-27T06:49:29.845577Z",
     "shell.execute_reply": "2022-12-27T06:49:29.845577Z",
     "shell.execute_reply.started": "2022-12-27T06:49:26.273234Z"
    },
    "tags": []
   },
   "outputs": [
    {
     "name": "stdout",
     "output_type": "stream",
     "text": [
      "40/40 [==============================] - 1s 21ms/step - loss: 22.9383 - output_1_loss: 0.2913 - output_2_loss: 22.6471 - output_1_mean_absolute_error: 0.4614 - output_2_accuracy: 0.2469\n",
      "40/40 [==============================] - 2s 33ms/step - loss: 14.2676 - output_1_loss: 0.3389 - output_2_loss: 13.9287 - output_1_mean_absolute_error: 0.5109 - output_2_accuracy: 0.2648\n"
     ]
    }
   ],
   "source": [
    "model.compile(\n",
    "    optimizer=\"rmsprop\",\n",
    "    loss=[\"mean_squared_error\", \"categorical_crossentropy\"],\n",
    "    metrics=[[\"mean_absolute_error\"], [\"accuracy\"]],\n",
    ")\n",
    "model.fit(\n",
    "    {\"title\": title_data, \"text_body\": text_body_data, \"tags\": tags_data},\n",
    "    [priority_data, department_data],\n",
    "    epochs=1,\n",
    ")\n",
    "model.evaluate(\n",
    "    {\"title\": title_data, \"text_body\": text_body_data, \"tags\": tags_data},\n",
    "    [priority_data, department_data],\n",
    ")\n",
    "priority_preds, department_preds = model.predict(\n",
    "    {\"title\": title_data, \"text_body\": text_body_data, \"tags\": tags_data}\n",
    ")"
   ]
  },
  {
   "cell_type": "markdown",
   "id": "78247e25-9650-4d63-83b5-7ede2411f82f",
   "metadata": {},
   "source": [
    "## 여러 방식을 혼합하여 사용"
   ]
  },
  {
   "cell_type": "code",
   "execution_count": 3,
   "id": "6bcc1add-0c15-4414-932c-2cff8a0ece3b",
   "metadata": {
    "execution": {
     "iopub.execute_input": "2022-12-27T06:50:46.044782Z",
     "iopub.status.busy": "2022-12-27T06:50:46.044782Z",
     "iopub.status.idle": "2022-12-27T06:50:46.114596Z",
     "shell.execute_reply": "2022-12-27T06:50:46.114596Z",
     "shell.execute_reply.started": "2022-12-27T06:50:46.044782Z"
    },
    "tags": []
   },
   "outputs": [],
   "source": [
    "# 서브클래싱한 모델을 포함하는 함수형 모델 제작\n",
    "\n",
    "class Classifier(keras.Model):\n",
    "    def __init__(self, num_classes=2):\n",
    "        super().__init__()\n",
    "        if num_classes == 2:\n",
    "            num_units = 1\n",
    "            activation = 'sigmoid'\n",
    "        else:\n",
    "            num_units = num_classes\n",
    "            activation = 'softmax'\n",
    "        self.dense = layers.Dense(num_units, activation=activation)\n",
    "\n",
    "    def call(self, inputs):\n",
    "        return self.dense(inputs)\n",
    "\n",
    "\n",
    "inputs = keras.Input(shape=(3,))\n",
    "features = layers.Dense(64, activation='relu')(inputs)\n",
    "outputs = Classifier(num_classes=10)(features)\n",
    "model = keras.Model(inputs=inputs, outputs=outputs)"
   ]
  },
  {
   "cell_type": "code",
   "execution_count": 4,
   "id": "84b571bb-ac8e-4f6f-8869-4059819ba135",
   "metadata": {
    "execution": {
     "iopub.execute_input": "2022-12-27T07:01:41.451188Z",
     "iopub.status.busy": "2022-12-27T07:01:41.451188Z",
     "iopub.status.idle": "2022-12-27T07:01:41.491013Z",
     "shell.execute_reply": "2022-12-27T07:01:41.490502Z",
     "shell.execute_reply.started": "2022-12-27T07:01:41.451188Z"
    },
    "tags": []
   },
   "outputs": [],
   "source": [
    "#  함수형 모델을 포함하는 서브클래싱 모델 제작\n",
    "\n",
    "inputs = keras.Input(shape=(64,))\n",
    "outputs = layers.Dense(1, activation='sigmoid')(inputs)\n",
    "binary_classifier = keras.Model(inputs=inputs, outputs=outputs)\n",
    "\n",
    "\n",
    "class MyModel(keras.Model):\n",
    "    def __init__(self, num_classes=2):\n",
    "        super().__init__()\n",
    "        self.dense = layers.Dense(64, activation='relu')\n",
    "        self.classifier = binary_classifier\n",
    "\n",
    "    def call(self, inputs):\n",
    "        features = self.dense(inputs)\n",
    "        return self.classifier(features)\n",
    "\n",
    "\n",
    "model = MyModel()"
   ]
  }
 ],
 "metadata": {
  "kernelspec": {
   "display_name": "Python 3 (ipykernel)",
   "language": "python",
   "name": "python3"
  },
  "language_info": {
   "codemirror_mode": {
    "name": "ipython",
    "version": 3
   },
   "file_extension": ".py",
   "mimetype": "text/x-python",
   "name": "python",
   "nbconvert_exporter": "python",
   "pygments_lexer": "ipython3",
   "version": "3.9.7"
  },
  "widgets": {
   "application/vnd.jupyter.widget-state+json": {
    "state": {},
    "version_major": 2,
    "version_minor": 0
   }
  }
 },
 "nbformat": 4,
 "nbformat_minor": 5
}
