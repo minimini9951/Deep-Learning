{
 "cells": [
  {
   "cell_type": "code",
   "execution_count": 1,
   "id": "067aff41-ee14-43ad-8026-c922cb29d877",
   "metadata": {
    "execution": {
     "iopub.execute_input": "2022-12-06T05:13:45.853171Z",
     "iopub.status.busy": "2022-12-06T05:13:45.852174Z",
     "iopub.status.idle": "2022-12-06T05:13:45.871306Z",
     "shell.execute_reply": "2022-12-06T05:13:45.870309Z",
     "shell.execute_reply.started": "2022-12-06T05:13:45.853171Z"
    },
    "tags": []
   },
   "outputs": [],
   "source": [
    "import warnings\n",
    "warnings.simplefilter(action='ignore', category=FutureWarning)"
   ]
  },
  {
   "cell_type": "code",
   "execution_count": 2,
   "id": "aa8197e2-d33f-4f36-85f4-a54c67b7387d",
   "metadata": {
    "execution": {
     "iopub.execute_input": "2022-12-06T05:13:47.255107Z",
     "iopub.status.busy": "2022-12-06T05:13:47.254108Z",
     "iopub.status.idle": "2022-12-06T05:13:54.788590Z",
     "shell.execute_reply": "2022-12-06T05:13:54.786492Z",
     "shell.execute_reply.started": "2022-12-06T05:13:47.255107Z"
    },
    "tags": []
   },
   "outputs": [],
   "source": [
    "import numpy as np\n",
    "import tensorflow as tf\n",
    "tf.compat.v1.enable_eager_execution()"
   ]
  },
  {
   "cell_type": "code",
   "execution_count": 3,
   "id": "1a2bd549-b6dd-4365-9312-1ac2d30695f4",
   "metadata": {
    "execution": {
     "iopub.execute_input": "2022-12-06T05:13:54.792080Z",
     "iopub.status.busy": "2022-12-06T05:13:54.790845Z",
     "iopub.status.idle": "2022-12-06T05:13:54.819116Z",
     "shell.execute_reply": "2022-12-06T05:13:54.817050Z",
     "shell.execute_reply.started": "2022-12-06T05:13:54.792080Z"
    },
    "tags": []
   },
   "outputs": [],
   "source": [
    "%config Completer.use_jedi = False  # 자동완성 속도 증가"
   ]
  },
  {
   "cell_type": "code",
   "execution_count": 14,
   "id": "4b1c80e1-7d7a-4300-9f32-39713e0fad18",
   "metadata": {
    "execution": {
     "iopub.execute_input": "2022-12-06T05:17:46.428338Z",
     "iopub.status.busy": "2022-12-06T05:17:46.427335Z",
     "iopub.status.idle": "2022-12-06T05:17:46.445338Z",
     "shell.execute_reply": "2022-12-06T05:17:46.444440Z",
     "shell.execute_reply.started": "2022-12-06T05:17:46.428338Z"
    },
    "tags": []
   },
   "outputs": [],
   "source": [
    "class NaiveDense:\n",
    "    def __init__(self, input_size, output_size, activation):\n",
    "        self.activation = activation\n",
    "        \n",
    "        w_shape = (input_size, output_size)\n",
    "        w_initial_value = tf.random.uniform(w_shape, minval=0, maxval=1e-1)\n",
    "        self.W = tf.Variable(w_initial_value) # 랜덤한 값으로 초기화된 (input_size, output_size)크기의 행렬 W를 만듬\n",
    "        \n",
    "        b_shape = (output_size)\n",
    "        b_initial_value = tf.zeros(b_shape)\n",
    "        self.b = tf.Variable(b_initial_value) # 0으로 초기화된 (outputsize,) 크기의 벡터 b를 만듬\n",
    "    \n",
    "    def __call__(self, inputs): # 정방향 패스를 수행\n",
    "        return self.activation(tf.matmul(inputs, self.W) + self.b)\n",
    "    \n",
    "    @property\n",
    "    def weights(self): # 가중치를 추출\n",
    "        return [self.W, self.b]"
   ]
  },
  {
   "cell_type": "code",
   "execution_count": 5,
   "id": "fd1d20ed-0e5c-4ab8-95bb-2d63d8fdc70f",
   "metadata": {
    "execution": {
     "iopub.execute_input": "2022-12-06T05:13:58.475533Z",
     "iopub.status.busy": "2022-12-06T05:13:58.475533Z",
     "iopub.status.idle": "2022-12-06T05:13:58.491690Z",
     "shell.execute_reply": "2022-12-06T05:13:58.490712Z",
     "shell.execute_reply.started": "2022-12-06T05:13:58.475533Z"
    },
    "tags": []
   },
   "outputs": [],
   "source": [
    "class NaiveSequential:\n",
    "    def __init__(self, layers):\n",
    "        self.layers = layers\n",
    "        \n",
    "    def __call__(self, inputs):\n",
    "        x = inputs\n",
    "        for layer in self.layers:\n",
    "            x = layer(x)\n",
    "        return x\n",
    "    \n",
    "    @property\n",
    "    def weights(self):\n",
    "        weights = []\n",
    "        for layer in self.layers:\n",
    "            weights += layer.weights\n",
    "        return weights"
   ]
  },
  {
   "cell_type": "code",
   "execution_count": 6,
   "id": "74840ff2-891f-409c-b19b-86d76deac61f",
   "metadata": {
    "execution": {
     "iopub.execute_input": "2022-12-06T05:13:58.871306Z",
     "iopub.status.busy": "2022-12-06T05:13:58.871306Z",
     "iopub.status.idle": "2022-12-06T05:13:58.968187Z",
     "shell.execute_reply": "2022-12-06T05:13:58.967118Z",
     "shell.execute_reply.started": "2022-12-06T05:13:58.871306Z"
    },
    "tags": []
   },
   "outputs": [],
   "source": [
    "model = NaiveSequential([\n",
    "    NaiveDense(input_size=28 * 28, output_size=512, activation=tf.nn.relu),\n",
    "    NaiveDense(input_size=512, output_size=10, activation=tf.nn.softmax)\n",
    "])\n",
    "assert len(model.weights) == 4"
   ]
  },
  {
   "cell_type": "code",
   "execution_count": 7,
   "id": "a4a5abe8-9287-4e39-ac22-9dedf95cf8ab",
   "metadata": {
    "execution": {
     "iopub.execute_input": "2022-12-06T05:14:00.632347Z",
     "iopub.status.busy": "2022-12-06T05:14:00.631418Z",
     "iopub.status.idle": "2022-12-06T05:14:00.649516Z",
     "shell.execute_reply": "2022-12-06T05:14:00.648514Z",
     "shell.execute_reply.started": "2022-12-06T05:14:00.632347Z"
    },
    "tags": []
   },
   "outputs": [],
   "source": [
    "import math\n",
    "\n",
    "class BatchGenerator:\n",
    "    def __init__(self, images, labels, batch_size=128):\n",
    "        assert len(images) == len(labels)\n",
    "        self.index = 0\n",
    "        self.images = images\n",
    "        self.labels = labels\n",
    "        self.batch_size = batch_size\n",
    "        self.num_batches = math.ceil(len(images) / batch_size)\n",
    "        \n",
    "    def next(self):\n",
    "        images = self.images[self.index : self.index + self.batch_size]\n",
    "        labels = self.labels[self.index : self.index + self.batch_size]\n",
    "        self.index += self.batch_size\n",
    "        return images, labels"
   ]
  },
  {
   "cell_type": "code",
   "execution_count": 8,
   "id": "66f5ac47-3ab9-4543-8f0d-b49df90d6da9",
   "metadata": {
    "execution": {
     "iopub.execute_input": "2022-12-06T05:14:01.007817Z",
     "iopub.status.busy": "2022-12-06T05:14:01.006819Z",
     "iopub.status.idle": "2022-12-06T05:14:01.022806Z",
     "shell.execute_reply": "2022-12-06T05:14:01.021749Z",
     "shell.execute_reply.started": "2022-12-06T05:14:01.007817Z"
    },
    "tags": []
   },
   "outputs": [],
   "source": [
    "def one_training_step(model, images_batch, labels_batch):\n",
    "    with tf.GradientTape() as tape:\n",
    "        predictions = model(images_batch)\n",
    "        per_sample_losses = tf.keras.losses.sparse_categorical_crossentropy(\n",
    "            labels_batch, predictions)\n",
    "        average_loss = tf.reduce_mean(per_sample_losses)\n",
    "    gradients = tape.gradient(average_loss, model.weights)\n",
    "    update_weights(gradients, model.weights)\n",
    "    return average_loss"
   ]
  },
  {
   "cell_type": "code",
   "execution_count": 9,
   "id": "c99c3ce6-6aa8-42b6-a2ae-972f0d69c4dd",
   "metadata": {
    "execution": {
     "iopub.execute_input": "2022-12-06T05:14:01.388579Z",
     "iopub.status.busy": "2022-12-06T05:14:01.387584Z",
     "iopub.status.idle": "2022-12-06T05:14:01.405577Z",
     "shell.execute_reply": "2022-12-06T05:14:01.404595Z",
     "shell.execute_reply.started": "2022-12-06T05:14:01.388579Z"
    },
    "tags": []
   },
   "outputs": [],
   "source": [
    "learning_rate = 1e-3\n",
    "\n",
    "def update_weights(gradients, weights):\n",
    "    for g, w in zip(gradients, weights):\n",
    "        w.assign_sub(g * learning_rate)"
   ]
  },
  {
   "cell_type": "code",
   "execution_count": 10,
   "id": "665d4383-009c-4494-a9e7-ad867a3572a0",
   "metadata": {
    "execution": {
     "iopub.execute_input": "2022-12-06T05:14:03.228983Z",
     "iopub.status.busy": "2022-12-06T05:14:03.228475Z",
     "iopub.status.idle": "2022-12-06T05:14:03.242992Z",
     "shell.execute_reply": "2022-12-06T05:14:03.242092Z",
     "shell.execute_reply.started": "2022-12-06T05:14:03.228983Z"
    },
    "tags": []
   },
   "outputs": [],
   "source": [
    "from tensorflow.keras import optimizers\n",
    "\n",
    "optimizer = optimizers.SGD(learning_rate=1e-3)\n",
    "\n",
    "def update_weights(gradients, weights):\n",
    "    optimizer.apply_gradients(zip(gradients, weights))"
   ]
  },
  {
   "cell_type": "code",
   "execution_count": 11,
   "id": "ed074ea0-c994-4465-940b-9e566e30939d",
   "metadata": {
    "execution": {
     "iopub.execute_input": "2022-12-06T05:14:05.082665Z",
     "iopub.status.busy": "2022-12-06T05:14:05.081721Z",
     "iopub.status.idle": "2022-12-06T05:14:05.091726Z",
     "shell.execute_reply": "2022-12-06T05:14:05.090691Z",
     "shell.execute_reply.started": "2022-12-06T05:14:05.082665Z"
    },
    "tags": []
   },
   "outputs": [],
   "source": [
    "def fit(model, images, labels, epochs, batch_size=128):\n",
    "    for epoch_counter in range(epochs):\n",
    "        print(f'에포크 {epoch_counter}')\n",
    "        batch_generator = BatchGenerator(images, labels)\n",
    "        for batch_counter in range(batch_generator.num_batches):\n",
    "            images_batch, labels_batch = batch_generator.next()\n",
    "            loss = one_training_step(model, images_batch, labels_batch)\n",
    "            if batch_counter % 100 == 0:\n",
    "                print(f'{batch_counter}번째 배치 손실: {loss:.2f}')"
   ]
  },
  {
   "cell_type": "code",
   "execution_count": 12,
   "id": "34105418-af35-4d18-88c8-443d1d6de189",
   "metadata": {
    "execution": {
     "iopub.execute_input": "2022-12-06T05:14:48.481659Z",
     "iopub.status.busy": "2022-12-06T05:14:48.481659Z",
     "iopub.status.idle": "2022-12-06T05:15:51.485421Z",
     "shell.execute_reply": "2022-12-06T05:15:51.483357Z",
     "shell.execute_reply.started": "2022-12-06T05:14:48.481659Z"
    },
    "tags": []
   },
   "outputs": [
    {
     "name": "stdout",
     "output_type": "stream",
     "text": [
      "에포크 0\n",
      "WARNING:tensorflow:From C:\\Anaconda3\\envs\\deep\\lib\\site-packages\\tensorflow\\python\\ops\\math_grad.py:1220: add_dispatch_support.<locals>.wrapper (from tensorflow.python.ops.array_ops) is deprecated and will be removed in a future version.\n",
      "Instructions for updating:\n",
      "Use tf.where in 2.0, which has the same broadcast rule as np.where\n",
      "0번째 배치 손실: 4.66\n",
      "100번째 배치 손실: 2.21\n",
      "200번째 배치 손실: 2.21\n",
      "300번째 배치 손실: 2.08\n",
      "400번째 배치 손실: 2.18\n",
      "에포크 1\n",
      "0번째 배치 손실: 1.89\n",
      "100번째 배치 손실: 1.85\n",
      "200번째 배치 손실: 1.83\n",
      "300번째 배치 손실: 1.70\n",
      "400번째 배치 손실: 1.80\n",
      "에포크 2\n",
      "0번째 배치 손실: 1.57\n",
      "100번째 배치 손실: 1.55\n",
      "200번째 배치 손실: 1.50\n",
      "300번째 배치 손실: 1.42\n",
      "400번째 배치 손실: 1.50\n",
      "에포크 3\n",
      "0번째 배치 손실: 1.31\n",
      "100번째 배치 손실: 1.32\n",
      "200번째 배치 손실: 1.24\n",
      "300번째 배치 손실: 1.20\n",
      "400번째 배치 손실: 1.27\n",
      "에포크 4\n",
      "0번째 배치 손실: 1.12\n",
      "100번째 배치 손실: 1.14\n",
      "200번째 배치 손실: 1.05\n",
      "300번째 배치 손실: 1.04\n",
      "400번째 배치 손실: 1.11\n",
      "에포크 5\n",
      "0번째 배치 손실: 0.97\n",
      "100번째 배치 손실: 1.00\n",
      "200번째 배치 손실: 0.91\n",
      "300번째 배치 손실: 0.92\n",
      "400번째 배치 손실: 0.99\n",
      "에포크 6\n",
      "0번째 배치 손실: 0.87\n",
      "100번째 배치 손실: 0.90\n",
      "200번째 배치 손실: 0.81\n",
      "300번째 배치 손실: 0.83\n",
      "400번째 배치 손실: 0.91\n",
      "에포크 7\n",
      "0번째 배치 손실: 0.79\n",
      "100번째 배치 손실: 0.82\n",
      "200번째 배치 손실: 0.73\n",
      "300번째 배치 손실: 0.77\n",
      "400번째 배치 손실: 0.84\n",
      "에포크 8\n",
      "0번째 배치 손실: 0.72\n",
      "100번째 배치 손실: 0.75\n",
      "200번째 배치 손실: 0.67\n",
      "300번째 배치 손실: 0.71\n",
      "400번째 배치 손실: 0.79\n",
      "에포크 9\n",
      "0번째 배치 손실: 0.67\n",
      "100번째 배치 손실: 0.70\n",
      "200번째 배치 손실: 0.62\n",
      "300번째 배치 손실: 0.67\n",
      "400번째 배치 손실: 0.75\n"
     ]
    }
   ],
   "source": [
    "from tensorflow.keras.datasets import mnist\n",
    "(train_images, train_labels), (test_images, test_labels) = mnist.load_data()\n",
    "\n",
    "train_images = train_images.reshape((60000, 28 * 28))\n",
    "train_images = train_images.astype('float32') / 255\n",
    "test_images = test_images.reshape((10000, 28 * 28))\n",
    "test_images = test_images.astype('float32') / 255\n",
    "\n",
    "fit(model, train_images, train_labels, epochs=10, batch_size=128)"
   ]
  },
  {
   "cell_type": "code",
   "execution_count": 13,
   "id": "a6aaf18b-d3ac-42de-8da2-2a9ee9ba3eff",
   "metadata": {
    "execution": {
     "iopub.execute_input": "2022-12-06T05:15:54.498461Z",
     "iopub.status.busy": "2022-12-06T05:15:54.498461Z",
     "iopub.status.idle": "2022-12-06T05:15:54.590560Z",
     "shell.execute_reply": "2022-12-06T05:15:54.588844Z",
     "shell.execute_reply.started": "2022-12-06T05:15:54.498461Z"
    },
    "tags": []
   },
   "outputs": [
    {
     "name": "stdout",
     "output_type": "stream",
     "text": [
      "정확도: 0.82\n"
     ]
    }
   ],
   "source": [
    "predictions = model(test_images)\n",
    "predictions = predictions.numpy()\n",
    "predicted_labels = np.argmax(predictions, axis=1)\n",
    "matches = predicted_labels == test_labels\n",
    "print(f'정확도: {matches.mean():.2f}')"
   ]
  },
  {
   "cell_type": "code",
   "execution_count": 34,
   "id": "4b1dace3-dbde-4339-9f26-2d73708ea3f4",
   "metadata": {
    "execution": {
     "iopub.execute_input": "2022-12-06T08:38:51.939256Z",
     "iopub.status.busy": "2022-12-06T08:38:51.931573Z",
     "iopub.status.idle": "2022-12-06T08:38:51.973486Z",
     "shell.execute_reply": "2022-12-06T08:38:51.971876Z",
     "shell.execute_reply.started": "2022-12-06T08:38:51.939256Z"
    },
    "tags": []
   },
   "outputs": [
    {
     "name": "stdout",
     "output_type": "stream",
     "text": [
      "tf.Tensor(19.6, shape=(), dtype=float32)\n",
      "tf.Tensor(9.8, shape=(), dtype=float32)\n"
     ]
    }
   ],
   "source": [
    "time = tf.Variable(2.)\n",
    "with tf.GradientTape() as outer_tape:\n",
    "    with tf.GradientTape() as inner_tape:\n",
    "        position = 4.9 * time ** 2\n",
    "    speed = inner_tape.gradient(position, time)\n",
    "acceleration = outer_tape.gradient(speed, time)\n",
    "print(speed)\n",
    "print(acceleration)"
   ]
  }
 ],
 "metadata": {
  "kernelspec": {
   "display_name": "Python 3 (ipykernel)",
   "language": "python",
   "name": "python3"
  },
  "language_info": {
   "codemirror_mode": {
    "name": "ipython",
    "version": 3
   },
   "file_extension": ".py",
   "mimetype": "text/x-python",
   "name": "python",
   "nbconvert_exporter": "python",
   "pygments_lexer": "ipython3",
   "version": "3.9.15"
  }
 },
 "nbformat": 4,
 "nbformat_minor": 5
}
