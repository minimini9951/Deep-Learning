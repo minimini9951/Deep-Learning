{
 "cells": [
  {
   "cell_type": "code",
   "execution_count": 13,
   "id": "aa8197e2-d33f-4f36-85f4-a54c67b7387d",
   "metadata": {
    "execution": {
     "iopub.execute_input": "2022-12-05T04:57:05.237519Z",
     "iopub.status.busy": "2022-12-05T04:57:05.236506Z",
     "iopub.status.idle": "2022-12-05T04:57:05.254662Z",
     "shell.execute_reply": "2022-12-05T04:57:05.253662Z",
     "shell.execute_reply.started": "2022-12-05T04:57:05.237519Z"
    },
    "tags": []
   },
   "outputs": [],
   "source": [
    "import warnings\n",
    "import numpy as np\n",
    "import tensorflow as tf\n",
    "tf.compat.v1.enable_eager_execution()"
   ]
  },
  {
   "cell_type": "code",
   "execution_count": 2,
   "id": "1a2bd549-b6dd-4365-9312-1ac2d30695f4",
   "metadata": {
    "execution": {
     "iopub.execute_input": "2022-12-05T04:55:08.499007Z",
     "iopub.status.busy": "2022-12-05T04:55:08.497999Z",
     "iopub.status.idle": "2022-12-05T04:55:08.526348Z",
     "shell.execute_reply": "2022-12-05T04:55:08.525388Z",
     "shell.execute_reply.started": "2022-12-05T04:55:08.499007Z"
    },
    "tags": []
   },
   "outputs": [],
   "source": [
    "%config Completer.use_jedi = False  # 자동완성 속도 증가\n",
    "warnings.simplefilter(action='ignore', category=FutureWarning)"
   ]
  },
  {
   "cell_type": "code",
   "execution_count": 3,
   "id": "4b1c80e1-7d7a-4300-9f32-39713e0fad18",
   "metadata": {
    "execution": {
     "iopub.execute_input": "2022-12-05T04:55:10.796318Z",
     "iopub.status.busy": "2022-12-05T04:55:10.795319Z",
     "iopub.status.idle": "2022-12-05T04:55:10.817388Z",
     "shell.execute_reply": "2022-12-05T04:55:10.816403Z",
     "shell.execute_reply.started": "2022-12-05T04:55:10.796318Z"
    },
    "tags": []
   },
   "outputs": [],
   "source": [
    "class NaiveDense:\n",
    "    def __init__(self, input_size, output_size, activation):\n",
    "        self.activation = activation\n",
    "        \n",
    "        w_shape = (input_size, output_size) # 랜덤한 값으로 초기화된 (input_size, output_size)크기의 행렬 W를 만듬\n",
    "        w_initial_value = tf.random.uniform(w_shape, minval=0, maxval=1e-1)\n",
    "        self.W = tf.Variable(w_initial_value)\n",
    "        \n",
    "        b_shape = (output_size)\n",
    "        b_initial_value = tf.zeros(b_shape)\n",
    "        self.b = tf.Variable(b_initial_value)\n",
    "    \n",
    "    def __call__(self, inputs):\n",
    "        return self.activation(tf.matmul(inputs, self.W) + self.b)\n",
    "    \n",
    "    @property\n",
    "    def weights(self):\n",
    "        return [self.W, self.b]"
   ]
  },
  {
   "cell_type": "code",
   "execution_count": 4,
   "id": "fd1d20ed-0e5c-4ab8-95bb-2d63d8fdc70f",
   "metadata": {
    "execution": {
     "iopub.execute_input": "2022-12-05T04:55:11.247098Z",
     "iopub.status.busy": "2022-12-05T04:55:11.247098Z",
     "iopub.status.idle": "2022-12-05T04:55:11.258421Z",
     "shell.execute_reply": "2022-12-05T04:55:11.257419Z",
     "shell.execute_reply.started": "2022-12-05T04:55:11.247098Z"
    },
    "tags": []
   },
   "outputs": [],
   "source": [
    "class NaiveSequential:\n",
    "    def __init__(self, layers):\n",
    "        self.layers = layers\n",
    "        \n",
    "    def __call__(self, inputs):\n",
    "        x = inputs\n",
    "        for layer in self.layers:\n",
    "            x = layer(x)\n",
    "        return x\n",
    "    \n",
    "    @property\n",
    "    def weights(self):\n",
    "        weights = []\n",
    "        for layer in self.layers:\n",
    "            weights += layer.weights\n",
    "        return weights"
   ]
  },
  {
   "cell_type": "code",
   "execution_count": 5,
   "id": "74840ff2-891f-409c-b19b-86d76deac61f",
   "metadata": {
    "execution": {
     "iopub.execute_input": "2022-12-05T04:55:12.290787Z",
     "iopub.status.busy": "2022-12-05T04:55:12.290787Z",
     "iopub.status.idle": "2022-12-05T04:55:12.343878Z",
     "shell.execute_reply": "2022-12-05T04:55:12.342813Z",
     "shell.execute_reply.started": "2022-12-05T04:55:12.290787Z"
    },
    "tags": []
   },
   "outputs": [],
   "source": [
    "model = NaiveSequential([\n",
    "    NaiveDense(input_size=28 * 28, output_size=512, activation=tf.nn.relu),\n",
    "    NaiveDense(input_size=512, output_size=10, activation=tf.nn.softmax)\n",
    "])\n",
    "assert len(model.weights) == 4"
   ]
  },
  {
   "cell_type": "code",
   "execution_count": 6,
   "id": "a4a5abe8-9287-4e39-ac22-9dedf95cf8ab",
   "metadata": {
    "execution": {
     "iopub.execute_input": "2022-12-05T04:55:12.666587Z",
     "iopub.status.busy": "2022-12-05T04:55:12.666587Z",
     "iopub.status.idle": "2022-12-05T04:55:12.685413Z",
     "shell.execute_reply": "2022-12-05T04:55:12.684415Z",
     "shell.execute_reply.started": "2022-12-05T04:55:12.666587Z"
    },
    "tags": []
   },
   "outputs": [],
   "source": [
    "import math\n",
    "\n",
    "class BatchGenerator:\n",
    "    def __init__(self, images, labels, batch_size=128):\n",
    "        assert len(images) == len(labels)\n",
    "        self.index = 0\n",
    "        self.images = images\n",
    "        self.labels = labels\n",
    "        self.batch_size = batch_size\n",
    "        self.num_batches = math.ceil(len(images) / batch_size)\n",
    "        \n",
    "    def next(self):\n",
    "        images = self.images[self.index : self.index + self.batch_size]\n",
    "        labels = self.labels[self.index : self.index + self.batch_size]\n",
    "        self.index += self.batch_size\n",
    "        return images, labels"
   ]
  },
  {
   "cell_type": "code",
   "execution_count": 7,
   "id": "66f5ac47-3ab9-4543-8f0d-b49df90d6da9",
   "metadata": {
    "execution": {
     "iopub.execute_input": "2022-12-05T04:55:13.716649Z",
     "iopub.status.busy": "2022-12-05T04:55:13.716649Z",
     "iopub.status.idle": "2022-12-05T04:55:13.737802Z",
     "shell.execute_reply": "2022-12-05T04:55:13.736869Z",
     "shell.execute_reply.started": "2022-12-05T04:55:13.716649Z"
    },
    "tags": []
   },
   "outputs": [],
   "source": [
    "def one_training_step(model, images_batch, labels_batch):\n",
    "    with tf.GradientTape() as tape:\n",
    "        predictions = model(images_batch)\n",
    "        per_sample_losses = tf.keras.losses.sparse_categorical_crossentropy(\n",
    "            labels_batch, predictions)\n",
    "        average_loss = tf.reduce_mean(per_sample_losses)\n",
    "    gradients = tape.gradient(average_loss, model.weights)\n",
    "    update_weights(gradients, model.weights)\n",
    "    return average_loss"
   ]
  },
  {
   "cell_type": "code",
   "execution_count": 8,
   "id": "c99c3ce6-6aa8-42b6-a2ae-972f0d69c4dd",
   "metadata": {
    "execution": {
     "iopub.execute_input": "2022-12-05T04:55:14.035495Z",
     "iopub.status.busy": "2022-12-05T04:55:14.034489Z",
     "iopub.status.idle": "2022-12-05T04:55:14.049185Z",
     "shell.execute_reply": "2022-12-05T04:55:14.048178Z",
     "shell.execute_reply.started": "2022-12-05T04:55:14.035495Z"
    },
    "tags": []
   },
   "outputs": [],
   "source": [
    "learning_rate = 1e-3\n",
    "\n",
    "def update_weights(gradients, weights):\n",
    "    for g, w in zip(gradients, weights):\n",
    "        w.assign_sub(g * learning_rate)"
   ]
  },
  {
   "cell_type": "code",
   "execution_count": 9,
   "id": "665d4383-009c-4494-a9e7-ad867a3572a0",
   "metadata": {
    "execution": {
     "iopub.execute_input": "2022-12-05T04:55:15.122840Z",
     "iopub.status.busy": "2022-12-05T04:55:15.122840Z",
     "iopub.status.idle": "2022-12-05T04:55:15.144178Z",
     "shell.execute_reply": "2022-12-05T04:55:15.143253Z",
     "shell.execute_reply.started": "2022-12-05T04:55:15.122840Z"
    },
    "tags": []
   },
   "outputs": [],
   "source": [
    "from tensorflow.keras import optimizers\n",
    "\n",
    "optimizer = optimizers.SGD(learning_rate=1e-3)\n",
    "\n",
    "def update_weights(gradients, weights):\n",
    "    optimizer.apply_gradients(zip(gradients, weights))"
   ]
  },
  {
   "cell_type": "code",
   "execution_count": 10,
   "id": "ed074ea0-c994-4465-940b-9e566e30939d",
   "metadata": {
    "execution": {
     "iopub.execute_input": "2022-12-05T04:55:15.315286Z",
     "iopub.status.busy": "2022-12-05T04:55:15.315286Z",
     "iopub.status.idle": "2022-12-05T04:55:15.330286Z",
     "shell.execute_reply": "2022-12-05T04:55:15.329304Z",
     "shell.execute_reply.started": "2022-12-05T04:55:15.315286Z"
    },
    "tags": []
   },
   "outputs": [],
   "source": [
    "def fit(model, images, labels, epochs, batch_size=128):\n",
    "    for epoch_counter in range(epochs):\n",
    "        print(f'에포크 {epoch_counter}')\n",
    "        batch_generator = BatchGenerator(images, labels)\n",
    "        for batch_counter in range(batch_generator.num_batches):\n",
    "            images_batch, labels_batch = batch_generator.next()\n",
    "            loss = one_training_step(model, images_batch, labels_batch)\n",
    "            if batch_counter % 100 == 0:\n",
    "                print(f'{batch_counter}번째 배치 손실: {loss:.2f}')"
   ]
  },
  {
   "cell_type": "code",
   "execution_count": 11,
   "id": "34105418-af35-4d18-88c8-443d1d6de189",
   "metadata": {
    "execution": {
     "iopub.execute_input": "2022-12-05T04:55:15.689270Z",
     "iopub.status.busy": "2022-12-05T04:55:15.689270Z",
     "iopub.status.idle": "2022-12-05T04:56:16.586483Z",
     "shell.execute_reply": "2022-12-05T04:56:16.583424Z",
     "shell.execute_reply.started": "2022-12-05T04:55:15.689270Z"
    },
    "tags": []
   },
   "outputs": [
    {
     "name": "stdout",
     "output_type": "stream",
     "text": [
      "에포크 0\n",
      "WARNING:tensorflow:From C:\\Anaconda3\\envs\\deep\\lib\\site-packages\\tensorflow\\python\\ops\\math_grad.py:1220: add_dispatch_support.<locals>.wrapper (from tensorflow.python.ops.array_ops) is deprecated and will be removed in a future version.\n",
      "Instructions for updating:\n",
      "Use tf.where in 2.0, which has the same broadcast rule as np.where\n",
      "0번째 배치 손실: 7.18\n",
      "100번째 배치 손실: 2.23\n",
      "200번째 배치 손실: 2.24\n",
      "300번째 배치 손실: 2.10\n",
      "400번째 배치 손실: 2.21\n",
      "에포크 1\n",
      "0번째 배치 손실: 1.92\n",
      "100번째 배치 손실: 1.88\n",
      "200번째 배치 손실: 1.87\n",
      "300번째 배치 손실: 1.72\n",
      "400번째 배치 손실: 1.83\n",
      "에포크 2\n",
      "0번째 배치 손실: 1.60\n",
      "100번째 배치 손실: 1.58\n",
      "200번째 배치 손실: 1.54\n",
      "300번째 배치 손실: 1.44\n",
      "400번째 배치 손실: 1.51\n",
      "에포크 3\n",
      "0번째 배치 손실: 1.34\n",
      "100번째 배치 손실: 1.34\n",
      "200번째 배치 손실: 1.27\n",
      "300번째 배치 손실: 1.22\n",
      "400번째 배치 손실: 1.28\n",
      "에포크 4\n",
      "0번째 배치 손실: 1.14\n",
      "100번째 배치 손실: 1.16\n",
      "200번째 배치 손실: 1.07\n",
      "300번째 배치 손실: 1.05\n",
      "400번째 배치 손실: 1.11\n",
      "에포크 5\n",
      "0번째 배치 손실: 1.00\n",
      "100번째 배치 손실: 1.02\n",
      "200번째 배치 손실: 0.92\n",
      "300번째 배치 손실: 0.93\n",
      "400번째 배치 손실: 0.99\n",
      "에포크 6\n",
      "0번째 배치 손실: 0.88\n",
      "100번째 배치 손실: 0.91\n",
      "200번째 배치 손실: 0.81\n",
      "300번째 배치 손실: 0.84\n",
      "400번째 배치 손실: 0.90\n",
      "에포크 7\n",
      "0번째 배치 손실: 0.80\n",
      "100번째 배치 손실: 0.82\n",
      "200번째 배치 손실: 0.73\n",
      "300번째 배치 손실: 0.77\n",
      "400번째 배치 손실: 0.83\n",
      "에포크 8\n",
      "0번째 배치 손실: 0.73\n",
      "100번째 배치 손실: 0.76\n",
      "200번째 배치 손실: 0.66\n",
      "300번째 배치 손실: 0.71\n",
      "400번째 배치 손실: 0.78\n",
      "에포크 9\n",
      "0번째 배치 손실: 0.68\n",
      "100번째 배치 손실: 0.70\n",
      "200번째 배치 손실: 0.61\n",
      "300번째 배치 손실: 0.66\n",
      "400번째 배치 손실: 0.74\n"
     ]
    }
   ],
   "source": [
    "from tensorflow.keras.datasets import mnist\n",
    "(train_images, train_labels), (test_images, test_labels) = mnist.load_data()\n",
    "\n",
    "train_images = train_images.reshape((60000, 28 * 28))\n",
    "train_images = train_images.astype('float32') / 255\n",
    "test_images = test_images.reshape((10000, 28 * 28))\n",
    "test_images = test_images.astype('float32') / 255\n",
    "\n",
    "fit(model, train_images, train_labels, epochs=10, batch_size=128)"
   ]
  },
  {
   "cell_type": "code",
   "execution_count": 12,
   "id": "a6aaf18b-d3ac-42de-8da2-2a9ee9ba3eff",
   "metadata": {
    "execution": {
     "iopub.execute_input": "2022-12-05T04:56:20.419197Z",
     "iopub.status.busy": "2022-12-05T04:56:20.419197Z",
     "iopub.status.idle": "2022-12-05T04:56:20.506817Z",
     "shell.execute_reply": "2022-12-05T04:56:20.504816Z",
     "shell.execute_reply.started": "2022-12-05T04:56:20.419197Z"
    },
    "tags": []
   },
   "outputs": [
    {
     "name": "stdout",
     "output_type": "stream",
     "text": [
      "정확도: 0.81\n"
     ]
    }
   ],
   "source": [
    "predictions = model(test_images)\n",
    "predictions = predictions.numpy()\n",
    "predicted_labels = np.argmax(predictions, axis=1)\n",
    "matches = predicted_labels == test_labels\n",
    "print(f'정확도: {matches.mean():.2f}')"
   ]
  }
 ],
 "metadata": {
  "kernelspec": {
   "display_name": "Python 3 (ipykernel)",
   "language": "python",
   "name": "python3"
  },
  "language_info": {
   "codemirror_mode": {
    "name": "ipython",
    "version": 3
   },
   "file_extension": ".py",
   "mimetype": "text/x-python",
   "name": "python",
   "nbconvert_exporter": "python",
   "pygments_lexer": "ipython3",
   "version": "3.7.12"
  }
 },
 "nbformat": 4,
 "nbformat_minor": 5
}
