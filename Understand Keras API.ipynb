{
 "cells": [
  {
   "cell_type": "code",
   "execution_count": 70,
   "id": "a751d022-97e5-413c-9aad-7398a3a40523",
   "metadata": {
    "execution": {
     "iopub.execute_input": "2022-12-07T06:29:53.863279Z",
     "iopub.status.busy": "2022-12-07T06:29:53.856266Z",
     "iopub.status.idle": "2022-12-07T06:29:53.887033Z",
     "shell.execute_reply": "2022-12-07T06:29:53.887033Z",
     "shell.execute_reply.started": "2022-12-07T06:29:53.863279Z"
    },
    "tags": []
   },
   "outputs": [],
   "source": [
    "import warnings\n",
    "warnings.simplefilter(action='ignore', category=FutureWarning)\n",
    "import numpy as np\n",
    "import tensorflow as tf\n",
    "tf.compat.v1.enable_eager_execution()\n",
    "%config Completer.use_jedi = False  # 자동완성 속도 증가"
   ]
  },
  {
   "cell_type": "code",
   "execution_count": 4,
   "id": "e69f271c-78bb-4921-8e74-cecac939829f",
   "metadata": {
    "execution": {
     "iopub.execute_input": "2022-12-07T03:24:09.828440Z",
     "iopub.status.busy": "2022-12-07T03:24:09.827397Z",
     "iopub.status.idle": "2022-12-07T03:24:09.844182Z",
     "shell.execute_reply": "2022-12-07T03:24:09.843202Z",
     "shell.execute_reply.started": "2022-12-07T03:24:09.828440Z"
    },
    "tags": []
   },
   "outputs": [],
   "source": [
    "num_samples_per_class = 1000\n",
    "negative_samples = np.random.multivariate_normal(\n",
    "    mean=[0, 3],\n",
    "    cov=[[1, 0.5], [0.5, 1]],\n",
    "    size=num_samples_per_class)\n",
    "positive_samples = np.random.multivariate_normal(\n",
    "    mean=[3, 0],\n",
    "    cov=[[1, 0.5], [0.5, 1]],\n",
    "    size=num_samples_per_class)"
   ]
  },
  {
   "cell_type": "code",
   "execution_count": 5,
   "id": "0724aa8c-c0c8-43d0-bac2-b9e78516a3bd",
   "metadata": {
    "execution": {
     "iopub.execute_input": "2022-12-07T03:24:09.846190Z",
     "iopub.status.busy": "2022-12-07T03:24:09.846190Z",
     "iopub.status.idle": "2022-12-07T03:24:09.859433Z",
     "shell.execute_reply": "2022-12-07T03:24:09.858572Z",
     "shell.execute_reply.started": "2022-12-07T03:24:09.846190Z"
    },
    "tags": []
   },
   "outputs": [],
   "source": [
    "inputs = np.vstack((negative_samples, positive_samples)).astype(np.float32)\n",
    "targets = np.vstack((np.zeros((num_samples_per_class, 1), dtype='float32'),\n",
    "                   np.ones((num_samples_per_class, 1), dtype='float32')))"
   ]
  },
  {
   "cell_type": "code",
   "execution_count": 6,
   "id": "6a94ee4d-7b74-45ea-982f-5f15fa68d4e0",
   "metadata": {
    "execution": {
     "iopub.execute_input": "2022-12-07T03:24:09.860431Z",
     "iopub.status.busy": "2022-12-07T03:24:09.860431Z",
     "iopub.status.idle": "2022-12-07T03:24:09.874997Z",
     "shell.execute_reply": "2022-12-07T03:24:09.873998Z",
     "shell.execute_reply.started": "2022-12-07T03:24:09.860431Z"
    },
    "tags": []
   },
   "outputs": [],
   "source": [
    "class NaiveDense:\n",
    "    def __init__(self, input_size, output_size, activation):\n",
    "        self.activation = activation\n",
    "        \n",
    "        w_shape = (input_size, output_size)\n",
    "        w_initial_value = tf.random.uniform(w_shape, minval=0, maxval=1e-1)\n",
    "        self.W = tf.Variable(w_initial_value) # 랜덤한 값으로 초기화된 (input_size, output_size)크기의 행렬 W를 만듬\n",
    "        \n",
    "        b_shape = (output_size)\n",
    "        b_initial_value = tf.zeros(b_shape)\n",
    "        self.b = tf.Variable(b_initial_value) # 0으로 초기화된 (outputsize,) 크기의 벡터 b를 만듬\n",
    "    \n",
    "    def __call__(self, inputs): # 정방향 패스를 수행\n",
    "        return self.activation(tf.matmul(inputs, self.W) + self.b)\n",
    "    \n",
    "    @property\n",
    "    def weights(self): # 가중치를 추출\n",
    "        return [self.W, self.b]"
   ]
  },
  {
   "cell_type": "code",
   "execution_count": 7,
   "id": "d44ee366-8c86-4991-92e4-a2c7cbbd5895",
   "metadata": {
    "execution": {
     "iopub.execute_input": "2022-12-07T03:24:09.879000Z",
     "iopub.status.busy": "2022-12-07T03:24:09.879000Z",
     "iopub.status.idle": "2022-12-07T03:24:09.890998Z",
     "shell.execute_reply": "2022-12-07T03:24:09.889998Z",
     "shell.execute_reply.started": "2022-12-07T03:24:09.879000Z"
    },
    "tags": []
   },
   "outputs": [],
   "source": [
    "class NaiveSequential:\n",
    "    def __init__(self, layers):\n",
    "        self.layers = layers\n",
    "        \n",
    "    def __call__(self, inputs):\n",
    "        x = inputs\n",
    "        for layer in self.layers:\n",
    "            x = layer(x)\n",
    "        return x\n",
    "    \n",
    "    @property\n",
    "    def weights(self):\n",
    "        weights = []\n",
    "        for layer in self.layers:\n",
    "            weights += layer.weights\n",
    "        return weights"
   ]
  },
  {
   "cell_type": "code",
   "execution_count": 8,
   "id": "2ad7f006-2300-49d1-bf61-e213732c76a9",
   "metadata": {
    "execution": {
     "iopub.execute_input": "2022-12-07T03:24:09.947658Z",
     "iopub.status.busy": "2022-12-07T03:24:09.946680Z",
     "iopub.status.idle": "2022-12-07T03:24:09.967962Z",
     "shell.execute_reply": "2022-12-07T03:24:09.967003Z",
     "shell.execute_reply.started": "2022-12-07T03:24:09.947658Z"
    },
    "tags": []
   },
   "outputs": [],
   "source": [
    "# Layer의 서브클래스로 구현한 Dense층\n",
    "from tensorflow import keras\n",
    "\n",
    "class SimpleDense(keras.layers.Layer): # 모든 Keras층은 Layer 클래스를 상속\n",
    "    def __init__(self, units, activation=None):\n",
    "        super().__init__()\n",
    "        self.units = units\n",
    "        self.activation = activation\n",
    "        \n",
    "    def build(self, input_shape): # build() 메서드에서 가중치를 생성\n",
    "        input_dim = input_shape[-1]\n",
    "        self.W = self.add_weight(shape=(input_dim, self.units),\n",
    "                                initializer='random_normal')\n",
    "        self.b = self.add_weight(shape=(self.units,),\n",
    "                                initializer='zeros')\n",
    "        \n",
    "    def call(self, inputs): # call() 메서드에서 정방향 패스 계산을 정의\n",
    "        y = tf.matmul(inputs, self.W) + self.b\n",
    "        if self.activation is not None:\n",
    "            y = self.activation(y)\n",
    "        return y"
   ]
  },
  {
   "cell_type": "code",
   "execution_count": 9,
   "id": "cab5eec6-34bc-4308-aa5c-9db8b598f66d",
   "metadata": {
    "execution": {
     "iopub.execute_input": "2022-12-07T03:24:10.412773Z",
     "iopub.status.busy": "2022-12-07T03:24:10.412773Z",
     "iopub.status.idle": "2022-12-07T03:24:10.437500Z",
     "shell.execute_reply": "2022-12-07T03:24:10.436501Z",
     "shell.execute_reply.started": "2022-12-07T03:24:10.412773Z"
    },
    "tags": []
   },
   "outputs": [],
   "source": [
    "from tensorflow.keras import layers\n",
    "layer = layers.Dense(32, activation='relu')"
   ]
  },
  {
   "cell_type": "code",
   "execution_count": 10,
   "id": "fbb37dd0-749b-4415-801f-da7fd0cf4fcf",
   "metadata": {
    "execution": {
     "iopub.execute_input": "2022-12-07T03:24:10.840815Z",
     "iopub.status.busy": "2022-12-07T03:24:10.839816Z",
     "iopub.status.idle": "2022-12-07T03:24:10.857995Z",
     "shell.execute_reply": "2022-12-07T03:24:10.856993Z",
     "shell.execute_reply.started": "2022-12-07T03:24:10.840815Z"
    },
    "tags": []
   },
   "outputs": [],
   "source": [
    "from tensorflow.keras import models\n",
    "from tensorflow.keras import layers\n",
    "\n",
    "model = models.Sequential([\n",
    "    layers.Dense(32, activation='relu'),\n",
    "    layers.Dense(32)\n",
    "])"
   ]
  },
  {
   "cell_type": "code",
   "execution_count": 11,
   "id": "66466cee-b871-4a5f-9354-2d2538a497eb",
   "metadata": {
    "execution": {
     "iopub.execute_input": "2022-12-07T03:24:12.188303Z",
     "iopub.status.busy": "2022-12-07T03:24:12.188303Z",
     "iopub.status.idle": "2022-12-07T03:24:12.224523Z",
     "shell.execute_reply": "2022-12-07T03:24:12.223515Z",
     "shell.execute_reply.started": "2022-12-07T03:24:12.188303Z"
    },
    "tags": []
   },
   "outputs": [],
   "source": [
    "model = NaiveSequential([\n",
    "    NaiveDense(input_size=784, output_size=32, activation='relu'),\n",
    "    NaiveDense(input_size=32, output_size=64, activation='relu'),\n",
    "    NaiveDense(input_size=64, output_size=32, activation='relu'),\n",
    "    NaiveDense(input_size=32, output_size=10, activation='softmax')\n",
    "])"
   ]
  },
  {
   "cell_type": "code",
   "execution_count": 12,
   "id": "ad72578b-bffe-44e8-a52e-f497f80bcbdf",
   "metadata": {
    "execution": {
     "iopub.execute_input": "2022-12-07T03:24:12.419419Z",
     "iopub.status.busy": "2022-12-07T03:24:12.419419Z",
     "iopub.status.idle": "2022-12-07T03:24:12.440770Z",
     "shell.execute_reply": "2022-12-07T03:24:12.439785Z",
     "shell.execute_reply.started": "2022-12-07T03:24:12.419419Z"
    },
    "tags": []
   },
   "outputs": [],
   "source": [
    "model = keras.Sequential([\n",
    "    SimpleDense(32, activation='relu'),\n",
    "    SimpleDense(64, activation='relu'),\n",
    "    SimpleDense(32, activation='relu'),\n",
    "    SimpleDense(10, activation='softmax')\n",
    "])"
   ]
  },
  {
   "cell_type": "code",
   "execution_count": 13,
   "id": "8351ef93-9625-4b46-b86d-040018399f77",
   "metadata": {
    "execution": {
     "iopub.execute_input": "2022-12-07T03:24:13.405598Z",
     "iopub.status.busy": "2022-12-07T03:24:13.405598Z",
     "iopub.status.idle": "2022-12-07T03:24:13.422587Z",
     "shell.execute_reply": "2022-12-07T03:24:13.421621Z",
     "shell.execute_reply.started": "2022-12-07T03:24:13.405598Z"
    },
    "tags": []
   },
   "outputs": [],
   "source": [
    "model = keras.Sequential([keras.layers.Dense(1)])\n",
    "model.compile(optimizer='rmsprop', loss='mean_squared_error', metrics=['accuracy'])"
   ]
  },
  {
   "cell_type": "code",
   "execution_count": 14,
   "id": "99befce8-eb62-4814-9209-cc99faa509ff",
   "metadata": {
    "execution": {
     "iopub.execute_input": "2022-12-07T03:24:14.565247Z",
     "iopub.status.busy": "2022-12-07T03:24:14.564147Z",
     "iopub.status.idle": "2022-12-07T03:24:14.899456Z",
     "shell.execute_reply": "2022-12-07T03:24:14.898383Z",
     "shell.execute_reply.started": "2022-12-07T03:24:14.565247Z"
    },
    "tags": []
   },
   "outputs": [
    {
     "name": "stdout",
     "output_type": "stream",
     "text": [
      "Epoch 1/5\n",
      "2000/2000 [==============================] - 0s 32us/sample - loss: 12.2885 - acc: 0.4065\n",
      "Epoch 2/5\n",
      "2000/2000 [==============================] - 0s 5us/sample - loss: 11.8282 - acc: 0.4040\n",
      "Epoch 3/5\n",
      "2000/2000 [==============================] - 0s 6us/sample - loss: 11.4435 - acc: 0.3990\n",
      "Epoch 4/5\n",
      "2000/2000 [==============================] - 0s 5us/sample - loss: 11.0719 - acc: 0.3955\n",
      "Epoch 5/5\n",
      "2000/2000 [==============================] - 0s 5us/sample - loss: 10.7062 - acc: 0.3930\n"
     ]
    },
    {
     "data": {
      "text/plain": [
       "{'loss': [12.288459770202637,\n",
       "  11.8282066116333,\n",
       "  11.443466102600098,\n",
       "  11.071913749694824,\n",
       "  10.706180892944335],\n",
       " 'acc': [0.4065, 0.404, 0.399, 0.3955, 0.393]}"
      ]
     },
     "execution_count": 14,
     "metadata": {},
     "output_type": "execute_result"
    }
   ],
   "source": [
    "history = model.fit(\n",
    "    inputs,\n",
    "    targets,\n",
    "    epochs=5,\n",
    "    batch_size=128\n",
    ")\n",
    "history.history"
   ]
  },
  {
   "cell_type": "code",
   "execution_count": 67,
   "id": "9648ee64-a60f-49fb-aac8-e271022de05b",
   "metadata": {
    "execution": {
     "iopub.execute_input": "2022-12-07T05:07:37.950933Z",
     "iopub.status.busy": "2022-12-07T05:07:37.950933Z",
     "iopub.status.idle": "2022-12-07T05:07:37.975790Z",
     "shell.execute_reply": "2022-12-07T05:07:37.974755Z",
     "shell.execute_reply.started": "2022-12-07T05:07:37.950933Z"
    },
    "tags": []
   },
   "outputs": [],
   "source": [
    "model = keras.Sequential([keras.layers.Dense(1)])\n",
    "model.compile(optimizer=keras.optimizers.RMSprop(learning_rate=0.1),\n",
    "             loss=keras.losses.MeanSquaredError(),\n",
    "             metrics=[keras.metrics.BinaryAccuracy()])\n",
    "\n",
    "indices_permutation = np.random.permutation(len(inputs))\n",
    "shuffled_inputs = inputs[indices_permutation]\n",
    "shuffled_targets = targets[indices_permutation]\n",
    "\n",
    "num_validation_samples = int(0.3 * len(inputs))\n",
    "val_inputs = shuffled_inputs[:num_validation_samples]\n",
    "val_targets = shuffled_targets[:num_validation_samples]\n",
    "training_inputs = shuffled_inputs[num_validation_samples:]\n",
    "training_targets = shuffled_targets[num_validation_samples:]"
   ]
  },
  {
   "cell_type": "code",
   "execution_count": 68,
   "id": "ba368c4b-dcdd-439a-b1f8-47e5b989c96b",
   "metadata": {
    "execution": {
     "iopub.execute_input": "2022-12-07T05:07:38.289646Z",
     "iopub.status.busy": "2022-12-07T05:07:38.289646Z",
     "iopub.status.idle": "2022-12-07T05:07:39.255250Z",
     "shell.execute_reply": "2022-12-07T05:07:39.255250Z",
     "shell.execute_reply.started": "2022-12-07T05:07:38.289646Z"
    },
    "tags": []
   },
   "outputs": [
    {
     "name": "stdout",
     "output_type": "stream",
     "text": [
      "Train on 1400 samples, validate on 600 samples\n",
      "Epoch 1/5\n",
      "1400/1400 [==============================] - 0s 153us/sample - loss: 0.3640 - binary_accuracy: 0.9636 - val_loss: 0.0670 - val_binary_accuracy: 0.9600\n",
      "Epoch 2/5\n",
      "1400/1400 [==============================] - 0s 63us/sample - loss: 0.0717 - binary_accuracy: 0.9600 - val_loss: 0.0726 - val_binary_accuracy: 0.9383\n",
      "Epoch 3/5\n",
      "1400/1400 [==============================] - 0s 70us/sample - loss: 0.0722 - binary_accuracy: 0.9564 - val_loss: 0.0919 - val_binary_accuracy: 0.9950\n",
      "Epoch 4/5\n",
      "1400/1400 [==============================] - 0s 68us/sample - loss: 0.0710 - binary_accuracy: 0.9607 - val_loss: 0.1094 - val_binary_accuracy: 0.8683\n",
      "Epoch 5/5\n",
      "1400/1400 [==============================] - 0s 70us/sample - loss: 0.0707 - binary_accuracy: 0.9564 - val_loss: 0.1609 - val_binary_accuracy: 0.8250\n",
      "600/600 [==============================] - 0s 48us/sample - loss: 0.1609 - binary_accuracy: 0.8250\n",
      "[0.160890957514445, 0.825]\n"
     ]
    }
   ],
   "source": [
    "model.fit(\n",
    "    training_inputs,\n",
    "    training_targets,\n",
    "    epochs=5,\n",
    "    batch_size=16,\n",
    "    validation_data=(val_inputs, val_targets)\n",
    ")\n",
    "loss_and_metrics = model.evaluate(val_inputs, val_targets, batch_size=128)\n",
    "print(loss_and_metrics)"
   ]
  },
  {
   "cell_type": "code",
   "execution_count": 69,
   "id": "17a4f5a1-0511-4db3-a293-bff78b869078",
   "metadata": {
    "execution": {
     "iopub.execute_input": "2022-12-07T05:07:40.517220Z",
     "iopub.status.busy": "2022-12-07T05:07:40.517220Z",
     "iopub.status.idle": "2022-12-07T05:07:40.565335Z",
     "shell.execute_reply": "2022-12-07T05:07:40.565335Z",
     "shell.execute_reply.started": "2022-12-07T05:07:40.517220Z"
    },
    "tags": []
   },
   "outputs": [
    {
     "name": "stdout",
     "output_type": "stream",
     "text": [
      "[[ 0.69090927]\n",
      " [ 0.64283186]\n",
      " [-0.3483867 ]\n",
      " [-0.4437498 ]\n",
      " [-0.32302064]\n",
      " [ 0.22651562]\n",
      " [ 0.21623285]\n",
      " [-0.30339772]\n",
      " [-0.14156371]\n",
      " [-0.22358489]]\n"
     ]
    }
   ],
   "source": [
    "predictions = model.predict(val_inputs, batch_size=128)\n",
    "print(predictions[:10])"
   ]
  }
 ],
 "metadata": {
  "kernelspec": {
   "display_name": "Python 3 (ipykernel)",
   "language": "python",
   "name": "python3"
  },
  "language_info": {
   "codemirror_mode": {
    "name": "ipython",
    "version": 3
   },
   "file_extension": ".py",
   "mimetype": "text/x-python",
   "name": "python",
   "nbconvert_exporter": "python",
   "pygments_lexer": "ipython3",
   "version": "3.7.12"
  }
 },
 "nbformat": 4,
 "nbformat_minor": 5
}
